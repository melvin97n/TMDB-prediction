{
  "nbformat": 4,
  "nbformat_minor": 0,
  "metadata": {
    "colab": {
      "name": "TMDB prediction draft",
      "provenance": [],
      "collapsed_sections": [],
      "include_colab_link": true
    },
    "kernelspec": {
      "name": "python3",
      "display_name": "Python 3"
    },
    "accelerator": "GPU"
  },
  "cells": [
    {
      "cell_type": "markdown",
      "metadata": {
        "id": "view-in-github",
        "colab_type": "text"
      },
      "source": [
        "<a href=\"https://colab.research.google.com/github/melvin97n/TMDB-prediction/blob/master/TMDB_prediction_draft.ipynb\" target=\"_parent\"><img src=\"https://colab.research.google.com/assets/colab-badge.svg\" alt=\"Open In Colab\"/></a>"
      ]
    },
    {
      "cell_type": "code",
      "metadata": {
        "id": "blDVec3uuQ7E",
        "colab_type": "code",
        "colab": {}
      },
      "source": [
        "import os\n",
        "import numpy as np\n",
        "import pandas as pd\n",
        "import matplotlib.pyplot as plt\n",
        "from sklearn.model_selection import train_test_split\n",
        "import seaborn as sns\n",
        "from tqdm import tqdm\n",
        "from scipy import stats\n",
        "from scipy.stats import norm, skew #for some statistics\n",
        "pd.set_option('display.float_format', lambda x: '{:.3f}'.format(x))\n",
        "%matplotlib inline\n",
        "import os\n",
        "import re"
      ],
      "execution_count": 0,
      "outputs": []
    },
    {
      "cell_type": "code",
      "metadata": {
        "id": "XBN4pnkiUUVD",
        "colab_type": "code",
        "outputId": "cd7d65a2-fb63-4b11-d597-c2185fd7df72",
        "colab": {
          "resources": {
            "http://localhost:8080/nbextensions/google.colab/files.js": {
              "data": "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",
              "ok": true,
              "headers": [
                [
                  "content-type",
                  "application/javascript"
                ]
              ],
              "status": 200,
              "status_text": ""
            }
          },
          "base_uri": "https://localhost:8080/",
          "height": 286
        }
      },
      "source": [
        "!pip install kaggle\n",
        "from google.colab import files\n",
        "files.upload()"
      ],
      "execution_count": 0,
      "outputs": [
        {
          "output_type": "stream",
          "text": [
            "Requirement already satisfied: kaggle in /usr/local/lib/python3.6/dist-packages (1.5.5)\n",
            "Requirement already satisfied: urllib3<1.25,>=1.21.1 in /usr/local/lib/python3.6/dist-packages (from kaggle) (1.24.3)\n",
            "Requirement already satisfied: six>=1.10 in /usr/local/lib/python3.6/dist-packages (from kaggle) (1.12.0)\n",
            "Requirement already satisfied: python-slugify in /usr/local/lib/python3.6/dist-packages (from kaggle) (3.0.3)\n",
            "Requirement already satisfied: python-dateutil in /usr/local/lib/python3.6/dist-packages (from kaggle) (2.5.3)\n",
            "Requirement already satisfied: certifi in /usr/local/lib/python3.6/dist-packages (from kaggle) (2019.6.16)\n",
            "Requirement already satisfied: tqdm in /usr/local/lib/python3.6/dist-packages (from kaggle) (4.28.1)\n",
            "Requirement already satisfied: requests in /usr/local/lib/python3.6/dist-packages (from kaggle) (2.21.0)\n",
            "Requirement already satisfied: text-unidecode==1.2 in /usr/local/lib/python3.6/dist-packages (from python-slugify->kaggle) (1.2)\n",
            "Requirement already satisfied: idna<2.9,>=2.5 in /usr/local/lib/python3.6/dist-packages (from requests->kaggle) (2.8)\n",
            "Requirement already satisfied: chardet<3.1.0,>=3.0.2 in /usr/local/lib/python3.6/dist-packages (from requests->kaggle) (3.0.4)\n"
          ],
          "name": "stdout"
        },
        {
          "output_type": "display_data",
          "data": {
            "text/html": [
              "\n",
              "     <input type=\"file\" id=\"files-cb2d686d-bb17-4c7c-bad8-7fb754a93489\" name=\"files[]\" multiple disabled />\n",
              "     <output id=\"result-cb2d686d-bb17-4c7c-bad8-7fb754a93489\">\n",
              "      Upload widget is only available when the cell has been executed in the\n",
              "      current browser session. Please rerun this cell to enable.\n",
              "      </output>\n",
              "      <script src=\"/nbextensions/google.colab/files.js\"></script> "
            ],
            "text/plain": [
              "<IPython.core.display.HTML object>"
            ]
          },
          "metadata": {
            "tags": []
          }
        },
        {
          "output_type": "stream",
          "text": [
            "Saving kaggle.json to kaggle (1).json\n"
          ],
          "name": "stdout"
        },
        {
          "output_type": "execute_result",
          "data": {
            "text/plain": [
              "{'kaggle.json': b'{\"username\":\"melvin97n\",\"key\":\"e8805b38b4617ec29d832f8bbdfeaab8\"}'}"
            ]
          },
          "metadata": {
            "tags": []
          },
          "execution_count": 3
        }
      ]
    },
    {
      "cell_type": "code",
      "metadata": {
        "id": "K6vqbiSDvEpp",
        "colab_type": "code",
        "outputId": "89f558a2-f3db-40e3-a35f-e0603de877cc",
        "colab": {
          "base_uri": "https://localhost:8080/",
          "height": 87
        }
      },
      "source": [
        "!mkdir -p ~/.kaggle\n",
        "!cp kaggle.json ~/.kaggle/\n",
        "!chmod 600 ~/.kaggle/kaggle.json\n",
        "!ls ~/.kaggle\n",
        "!ls -l ~/.kaggle\n",
        "!cat ~/.kaggle/kaggle.json\n",
        "!pip install -q kaggle\n",
        "!pip install -q kaggle-cli"
      ],
      "execution_count": 0,
      "outputs": [
        {
          "output_type": "stream",
          "text": [
            "kaggle.json\n",
            "total 4\n",
            "-rw------- 1 root root 65 Aug 12 11:43 kaggle.json\n",
            "{\"username\":\"melvin97n\",\"key\":\"e8805b38b4617ec29d832f8bbdfeaab8\"}"
          ],
          "name": "stdout"
        }
      ]
    },
    {
      "cell_type": "code",
      "metadata": {
        "id": "mfEW9l0EvLhT",
        "colab_type": "code",
        "outputId": "c90f19b6-367a-4ce5-d546-93b5501bd63c",
        "colab": {
          "base_uri": "https://localhost:8080/",
          "height": 70
        }
      },
      "source": [
        "!kaggle competitions download -c tmdb-box-office-prediction"
      ],
      "execution_count": 0,
      "outputs": [
        {
          "output_type": "stream",
          "text": [
            "sample_submission.csv: Skipping, found more recently modified local copy (use --force to force download)\n",
            "train.csv.zip: Skipping, found more recently modified local copy (use --force to force download)\n",
            "test.csv.zip: Skipping, found more recently modified local copy (use --force to force download)\n"
          ],
          "name": "stdout"
        }
      ]
    },
    {
      "cell_type": "code",
      "metadata": {
        "id": "aOKLiR83vpB1",
        "colab_type": "code",
        "outputId": "447005ee-93ad-40b3-8119-4ada20134500",
        "colab": {
          "base_uri": "https://localhost:8080/",
          "height": 34
        }
      },
      "source": [
        "pwd"
      ],
      "execution_count": 0,
      "outputs": [
        {
          "output_type": "execute_result",
          "data": {
            "text/plain": [
              "'/content'"
            ]
          },
          "metadata": {
            "tags": []
          },
          "execution_count": 6
        }
      ]
    },
    {
      "cell_type": "code",
      "metadata": {
        "id": "5WKfzcQwqT5J",
        "colab_type": "code",
        "colab": {}
      },
      "source": [
        "test=pd.read_csv(\"test.csv.zip\")\n",
        "train=pd.read_csv(\"train.csv.zip\")\n",
        "train_x=train.drop('revenue',1)\n",
        "df=pd.concat([train_x,test])\n",
        "df.head(5)"
      ],
      "execution_count": 0,
      "outputs": []
    },
    {
      "cell_type": "code",
      "metadata": {
        "id": "n-ES5yhYvbpQ",
        "colab_type": "code",
        "colab": {}
      },
      "source": [
        "df=pd.read_csv(\"train.csv.zip\")"
      ],
      "execution_count": 0,
      "outputs": []
    },
    {
      "cell_type": "code",
      "metadata": {
        "id": "Gg_VIRQMvkG2",
        "colab_type": "code",
        "outputId": "5361b17a-516f-403e-ee1d-a8ef2a5a77c2",
        "colab": {
          "base_uri": "https://localhost:8080/",
          "height": 439
        }
      },
      "source": [
        "df.isnull().sum(axis=0)"
      ],
      "execution_count": 0,
      "outputs": [
        {
          "output_type": "execute_result",
          "data": {
            "text/plain": [
              "id                          0\n",
              "belongs_to_collection    2396\n",
              "budget                      0\n",
              "genres                      7\n",
              "homepage                 2054\n",
              "imdb_id                     0\n",
              "original_language           0\n",
              "original_title              0\n",
              "overview                    8\n",
              "popularity                  0\n",
              "poster_path                 1\n",
              "production_companies      156\n",
              "production_countries       55\n",
              "release_date                0\n",
              "runtime                     2\n",
              "spoken_languages           20\n",
              "status                      0\n",
              "tagline                   597\n",
              "title                       0\n",
              "Keywords                  276\n",
              "cast                       13\n",
              "crew                       16\n",
              "revenue                     0\n",
              "dtype: int64"
            ]
          },
          "metadata": {
            "tags": []
          },
          "execution_count": 36
        }
      ]
    },
    {
      "cell_type": "markdown",
      "metadata": {
        "id": "IP4Qb1KvH3jr",
        "colab_type": "text"
      },
      "source": [
        ""
      ]
    },
    {
      "cell_type": "code",
      "metadata": {
        "id": "B-43ksQVfsQ-",
        "colab_type": "code",
        "outputId": "57ae014d-5231-4bd0-a7b9-abd7cffe2254",
        "colab": {
          "base_uri": "https://localhost:8080/",
          "height": 105
        }
      },
      "source": [
        "df['belongs_to_collection'][df['belongs_to_collection'].notnull()]='Yes'"
      ],
      "execution_count": 0,
      "outputs": [
        {
          "output_type": "stream",
          "text": [
            "/usr/local/lib/python3.6/dist-packages/ipykernel_launcher.py:1: SettingWithCopyWarning: \n",
            "A value is trying to be set on a copy of a slice from a DataFrame\n",
            "\n",
            "See the caveats in the documentation: http://pandas.pydata.org/pandas-docs/stable/indexing.html#indexing-view-versus-copy\n",
            "  \"\"\"Entry point for launching an IPython kernel.\n"
          ],
          "name": "stderr"
        }
      ]
    },
    {
      "cell_type": "code",
      "metadata": {
        "id": "Voq0LOh5fsIX",
        "colab_type": "code",
        "colab": {}
      },
      "source": [
        "df['belongs_to_collection']=df['belongs_to_collection'].fillna(\"No\")"
      ],
      "execution_count": 0,
      "outputs": []
    },
    {
      "cell_type": "code",
      "metadata": {
        "id": "Y7JrKqSiPMx6",
        "colab_type": "code",
        "colab": {}
      },
      "source": [
        "x=[]\n",
        "for index,row in df.iterrows():\n",
        "  try:\n",
        "    d=eval(df['genres'][index])\n",
        "    b=[]\n",
        "    for i in range(len(d)):\n",
        "      b.append(list(d[i].values())[1])\n",
        "  except:\n",
        "    pass\n",
        "  x.append(b)\n",
        "df['genres']=x\n",
        "\n"
      ],
      "execution_count": 0,
      "outputs": []
    },
    {
      "cell_type": "code",
      "metadata": {
        "id": "CKZAsvrjrADI",
        "colab_type": "code",
        "outputId": "ae865c46-9b44-4f27-b0f2-1e5da0e38472",
        "colab": {
          "base_uri": "https://localhost:8080/",
          "height": 616
        }
      },
      "source": [
        "df.head()"
      ],
      "execution_count": 0,
      "outputs": [
        {
          "output_type": "execute_result",
          "data": {
            "text/html": [
              "<div>\n",
              "<style scoped>\n",
              "    .dataframe tbody tr th:only-of-type {\n",
              "        vertical-align: middle;\n",
              "    }\n",
              "\n",
              "    .dataframe tbody tr th {\n",
              "        vertical-align: top;\n",
              "    }\n",
              "\n",
              "    .dataframe thead th {\n",
              "        text-align: right;\n",
              "    }\n",
              "</style>\n",
              "<table border=\"1\" class=\"dataframe\">\n",
              "  <thead>\n",
              "    <tr style=\"text-align: right;\">\n",
              "      <th></th>\n",
              "      <th>id</th>\n",
              "      <th>belongs_to_collection</th>\n",
              "      <th>budget</th>\n",
              "      <th>genres</th>\n",
              "      <th>homepage</th>\n",
              "      <th>imdb_id</th>\n",
              "      <th>original_language</th>\n",
              "      <th>original_title</th>\n",
              "      <th>overview</th>\n",
              "      <th>popularity</th>\n",
              "      <th>poster_path</th>\n",
              "      <th>production_companies</th>\n",
              "      <th>production_countries</th>\n",
              "      <th>release_date</th>\n",
              "      <th>runtime</th>\n",
              "      <th>spoken_languages</th>\n",
              "      <th>status</th>\n",
              "      <th>tagline</th>\n",
              "      <th>title</th>\n",
              "      <th>Keywords</th>\n",
              "      <th>cast</th>\n",
              "      <th>crew</th>\n",
              "      <th>revenue</th>\n",
              "    </tr>\n",
              "  </thead>\n",
              "  <tbody>\n",
              "    <tr>\n",
              "      <th>0</th>\n",
              "      <td>1</td>\n",
              "      <td>Yes</td>\n",
              "      <td>14000000</td>\n",
              "      <td>[Comedy]</td>\n",
              "      <td>NaN</td>\n",
              "      <td>tt2637294</td>\n",
              "      <td>en</td>\n",
              "      <td>Hot Tub Time Machine 2</td>\n",
              "      <td>When Lou, who has become the \"father of the In...</td>\n",
              "      <td>6.575</td>\n",
              "      <td>/tQtWuwvMf0hCc2QR2tkolwl7c3c.jpg</td>\n",
              "      <td>[{'name': 'Paramount Pictures', 'id': 4}, {'na...</td>\n",
              "      <td>[{'iso_3166_1': 'US', 'name': 'United States o...</td>\n",
              "      <td>2/20/15</td>\n",
              "      <td>93.000</td>\n",
              "      <td>[{'iso_639_1': 'en', 'name': 'English'}]</td>\n",
              "      <td>Released</td>\n",
              "      <td>The Laws of Space and Time are About to be Vio...</td>\n",
              "      <td>Hot Tub Time Machine 2</td>\n",
              "      <td>[{'id': 4379, 'name': 'time travel'}, {'id': 9...</td>\n",
              "      <td>[{'cast_id': 4, 'character': 'Lou', 'credit_id...</td>\n",
              "      <td>[{'credit_id': '59ac067c92514107af02c8c8', 'de...</td>\n",
              "      <td>12314651</td>\n",
              "    </tr>\n",
              "    <tr>\n",
              "      <th>1</th>\n",
              "      <td>2</td>\n",
              "      <td>Yes</td>\n",
              "      <td>40000000</td>\n",
              "      <td>[Comedy, Drama, Family, Romance]</td>\n",
              "      <td>NaN</td>\n",
              "      <td>tt0368933</td>\n",
              "      <td>en</td>\n",
              "      <td>The Princess Diaries 2: Royal Engagement</td>\n",
              "      <td>Mia Thermopolis is now a college graduate and ...</td>\n",
              "      <td>8.249</td>\n",
              "      <td>/w9Z7A0GHEhIp7etpj0vyKOeU1Wx.jpg</td>\n",
              "      <td>[{'name': 'Walt Disney Pictures', 'id': 2}]</td>\n",
              "      <td>[{'iso_3166_1': 'US', 'name': 'United States o...</td>\n",
              "      <td>8/6/04</td>\n",
              "      <td>113.000</td>\n",
              "      <td>[{'iso_639_1': 'en', 'name': 'English'}]</td>\n",
              "      <td>Released</td>\n",
              "      <td>It can take a lifetime to find true love; she'...</td>\n",
              "      <td>The Princess Diaries 2: Royal Engagement</td>\n",
              "      <td>[{'id': 2505, 'name': 'coronation'}, {'id': 42...</td>\n",
              "      <td>[{'cast_id': 1, 'character': 'Mia Thermopolis'...</td>\n",
              "      <td>[{'credit_id': '52fe43fe9251416c7502563d', 'de...</td>\n",
              "      <td>95149435</td>\n",
              "    </tr>\n",
              "    <tr>\n",
              "      <th>2</th>\n",
              "      <td>3</td>\n",
              "      <td>No</td>\n",
              "      <td>3300000</td>\n",
              "      <td>[Drama]</td>\n",
              "      <td>http://sonyclassics.com/whiplash/</td>\n",
              "      <td>tt2582802</td>\n",
              "      <td>en</td>\n",
              "      <td>Whiplash</td>\n",
              "      <td>Under the direction of a ruthless instructor, ...</td>\n",
              "      <td>64.300</td>\n",
              "      <td>/lIv1QinFqz4dlp5U4lQ6HaiskOZ.jpg</td>\n",
              "      <td>[{'name': 'Bold Films', 'id': 2266}, {'name': ...</td>\n",
              "      <td>[{'iso_3166_1': 'US', 'name': 'United States o...</td>\n",
              "      <td>10/10/14</td>\n",
              "      <td>105.000</td>\n",
              "      <td>[{'iso_639_1': 'en', 'name': 'English'}]</td>\n",
              "      <td>Released</td>\n",
              "      <td>The road to greatness can take you to the edge.</td>\n",
              "      <td>Whiplash</td>\n",
              "      <td>[{'id': 1416, 'name': 'jazz'}, {'id': 1523, 'n...</td>\n",
              "      <td>[{'cast_id': 5, 'character': 'Andrew Neimann',...</td>\n",
              "      <td>[{'credit_id': '54d5356ec3a3683ba0000039', 'de...</td>\n",
              "      <td>13092000</td>\n",
              "    </tr>\n",
              "    <tr>\n",
              "      <th>3</th>\n",
              "      <td>4</td>\n",
              "      <td>No</td>\n",
              "      <td>1200000</td>\n",
              "      <td>[Thriller, Drama]</td>\n",
              "      <td>http://kahaanithefilm.com/</td>\n",
              "      <td>tt1821480</td>\n",
              "      <td>hi</td>\n",
              "      <td>Kahaani</td>\n",
              "      <td>Vidya Bagchi (Vidya Balan) arrives in Kolkata ...</td>\n",
              "      <td>3.175</td>\n",
              "      <td>/aTXRaPrWSinhcmCrcfJK17urp3F.jpg</td>\n",
              "      <td>NaN</td>\n",
              "      <td>[{'iso_3166_1': 'IN', 'name': 'India'}]</td>\n",
              "      <td>3/9/12</td>\n",
              "      <td>122.000</td>\n",
              "      <td>[{'iso_639_1': 'en', 'name': 'English'}, {'iso...</td>\n",
              "      <td>Released</td>\n",
              "      <td>NaN</td>\n",
              "      <td>Kahaani</td>\n",
              "      <td>[{'id': 10092, 'name': 'mystery'}, {'id': 1054...</td>\n",
              "      <td>[{'cast_id': 1, 'character': 'Vidya Bagchi', '...</td>\n",
              "      <td>[{'credit_id': '52fe48779251416c9108d6eb', 'de...</td>\n",
              "      <td>16000000</td>\n",
              "    </tr>\n",
              "    <tr>\n",
              "      <th>4</th>\n",
              "      <td>5</td>\n",
              "      <td>No</td>\n",
              "      <td>0</td>\n",
              "      <td>[Action, Thriller]</td>\n",
              "      <td>NaN</td>\n",
              "      <td>tt1380152</td>\n",
              "      <td>ko</td>\n",
              "      <td>마린보이</td>\n",
              "      <td>Marine Boy is the story of a former national s...</td>\n",
              "      <td>1.148</td>\n",
              "      <td>/m22s7zvkVFDU9ir56PiiqIEWFdT.jpg</td>\n",
              "      <td>NaN</td>\n",
              "      <td>[{'iso_3166_1': 'KR', 'name': 'South Korea'}]</td>\n",
              "      <td>2/5/09</td>\n",
              "      <td>118.000</td>\n",
              "      <td>[{'iso_639_1': 'ko', 'name': '한국어/조선말'}]</td>\n",
              "      <td>Released</td>\n",
              "      <td>NaN</td>\n",
              "      <td>Marine Boy</td>\n",
              "      <td>NaN</td>\n",
              "      <td>[{'cast_id': 3, 'character': 'Chun-soo', 'cred...</td>\n",
              "      <td>[{'credit_id': '52fe464b9251416c75073b43', 'de...</td>\n",
              "      <td>3923970</td>\n",
              "    </tr>\n",
              "  </tbody>\n",
              "</table>\n",
              "</div>"
            ],
            "text/plain": [
              "   id  ...   revenue\n",
              "0   1  ...  12314651\n",
              "1   2  ...  95149435\n",
              "2   3  ...  13092000\n",
              "3   4  ...  16000000\n",
              "4   5  ...   3923970\n",
              "\n",
              "[5 rows x 23 columns]"
            ]
          },
          "metadata": {
            "tags": []
          },
          "execution_count": 40
        }
      ]
    },
    {
      "cell_type": "code",
      "metadata": {
        "id": "2XoWQl5FtDql",
        "colab_type": "code",
        "outputId": "8a21cb85-8170-4a10-b5ad-a9c35f9c59e6",
        "colab": {
          "base_uri": "https://localhost:8080/",
          "height": 54
        }
      },
      "source": [
        "df['cast'][0]"
      ],
      "execution_count": 0,
      "outputs": [
        {
          "output_type": "execute_result",
          "data": {
            "text/plain": [
              "\"[{'cast_id': 4, 'character': 'Lou', 'credit_id': '52fe4ee7c3a36847f82afae7', 'gender': 2, 'id': 52997, 'name': 'Rob Corddry', 'order': 0, 'profile_path': '/k2zJL0V1nEZuFT08xUdOd3ucfXz.jpg'}, {'cast_id': 5, 'character': 'Nick', 'credit_id': '52fe4ee7c3a36847f82afaeb', 'gender': 2, 'id': 64342, 'name': 'Craig Robinson', 'order': 1, 'profile_path': '/tVaRMkJXOEVhYxtnnFuhqW0Rjzz.jpg'}, {'cast_id': 6, 'character': 'Jacob', 'credit_id': '52fe4ee7c3a36847f82afaef', 'gender': 2, 'id': 54729, 'name': 'Clark Duke', 'order': 2, 'profile_path': '/oNzK0umwm5Wn0wyEbOy6TVJCSBn.jpg'}, {'cast_id': 7, 'character': 'Adam Jr.', 'credit_id': '52fe4ee7c3a36847f82afaf3', 'gender': 2, 'id': 36801, 'name': 'Adam Scott', 'order': 3, 'profile_path': '/5gb65xz8bzd42yjMAl4zwo4cvKw.jpg'}, {'cast_id': 8, 'character': 'Hot Tub Repairman', 'credit_id': '52fe4ee7c3a36847f82afaf7', 'gender': 2, 'id': 54812, 'name': 'Chevy Chase', 'order': 4, 'profile_path': '/svjpyYtPwtjvRxX9IZnOmOkhDOt.jpg'}, {'cast_id': 9, 'character': 'Jill', 'credit_id': '52fe4ee7c3a36847f82afafb', 'gender': 1, 'id': 94098, 'name': 'Gillian Jacobs', 'order': 5, 'profile_path': '/rBnhe5vhNPnhRUdtYahBWx90fJM.jpg'}, {'cast_id': 10, 'character': 'Sophie', 'credit_id': '52fe4ee7c3a36847f82afaff', 'gender': 1, 'id': 1159009, 'name': 'Bianca Haase', 'order': 6, 'profile_path': '/4x3nbtD8q8phAJPmoGWXPvz0iM.jpg'}, {'cast_id': 11, 'character': 'Kelly', 'credit_id': '5524ec51c3a3687df3000dbb', 'gender': 1, 'id': 86624, 'name': 'Collette Wolfe', 'order': 7, 'profile_path': '/aSD4h5379b2eEw3bLou9ByLimmq.jpg'}, {'cast_id': 13, 'character': 'Brad', 'credit_id': '5524ec8ec3a3687ded000d72', 'gender': 2, 'id': 466505, 'name': 'Kumail Nanjiani', 'order': 9, 'profile_path': '/x4nAztHY72SVciRfxEsbhIVTsIu.jpg'}, {'cast_id': 14, 'character': 'Courtney', 'credit_id': '5524ec9bc3a3687df8000d13', 'gender': 1, 'id': 70776, 'name': 'Kellee Stewart', 'order': 10, 'profile_path': '/w3xmsEPmJc1Cf0dQ4aIn8YmlHbk.jpg'}, {'cast_id': 15, 'character': 'Terry', 'credit_id': '5524eca892514171cb008237', 'gender': 2, 'id': 347335, 'name': 'Josh Heald', 'order': 11, 'profile_path': '/pwXJIenrDMrG7t3zNfLvr8w1RGU.jpg'}, {'cast_id': 16, 'character': 'Susan', 'credit_id': '5524ecb7925141720c001116', 'gender': 0, 'id': 1451392, 'name': 'Gretchen Koerner', 'order': 12, 'profile_path': '/muULPexCTJGyJba4yKzxronpD50.jpg'}, {'cast_id': 17, 'character': 'Herself', 'credit_id': '5524ecc3c3a3687ded000d74', 'gender': 1, 'id': 98879, 'name': 'Lisa Loeb', 'order': 13, 'profile_path': '/bGqg58ca0bZR38z9HliUMmeNGE.jpg'}, {'cast_id': 18, 'character': 'Herself', 'credit_id': '5524ecd3c3a3687e11000ed3', 'gender': 1, 'id': 1394648, 'name': 'Jessica Williams', 'order': 14, 'profile_path': '/A4syKjkcYB92wLEhH0c0hC3BCpz.jpg'}, {'cast_id': 19, 'character': 'Himself', 'credit_id': '5524ece6925141718d001009', 'gender': 0, 'id': 1451393, 'name': 'Bruce Buffer', 'order': 15, 'profile_path': None}, {'cast_id': 20, 'character': 'Shot Girl', 'credit_id': '5524ecf5c3a3687e08000dc2', 'gender': 0, 'id': 1451394, 'name': 'Mariana Paola Vicente', 'order': 16, 'profile_path': '/ckPllza8624UHWGHCbLShkLxCD1.jpg'}, {'cast_id': 33, 'character': 'Choozy Doozy Host', 'credit_id': '555844da9251412afe0013a9', 'gender': 2, 'id': 2224, 'name': 'Christian Slater', 'order': 17, 'profile_path': '/3ElLWjnvchMS6Q4cIQOK8QNAoMG.jpg'}, {'cast_id': 35, 'character': 'Gary Winkle', 'credit_id': '55872027c3a3683853005074', 'gender': 0, 'id': 185805, 'name': 'Jason Jones', 'order': 18, 'profile_path': '/aIoCw6vo8AGMdsQRAI5g2t0yJT3.jpg'}, {'cast_id': 36, 'character': 'Bridesmaid', 'credit_id': '55efe971c3a368090c00cd1b', 'gender': 0, 'id': 1507448, 'name': 'Olivia Jordan', 'order': 19, 'profile_path': '/szMukAEiIDeasel0lvyaeyKuych.jpg'}, {'cast_id': 37, 'character': 'Christine', 'credit_id': '55efe980c3a36871bf008176', 'gender': 1, 'id': 1334091, 'name': 'Christine Bently', 'order': 20, 'profile_path': '/oUZltnGa55OXE52hfyPTfCshuNy.jpg'}, {'cast_id': 38, 'character': 'Excited Girl', 'credit_id': '55efe98e9251413e3201d316', 'gender': 0, 'id': 557803, 'name': 'Stacey Asaro', 'order': 21, 'profile_path': '/qTPdlr1dXf3kNdyHuDsgtGC0HCC.jpg'}, {'cast_id': 64, 'character': 'Adam (uncredited)', 'credit_id': '58f2135ac3a3682e95008b91', 'gender': 2, 'id': 3036, 'name': 'John Cusack', 'order': 22, 'profile_path': '/uKydQYuZ9TnCzvbQLtj6j98vWAT.jpg'}, {'cast_id': 65, 'character': 'J-Bird', 'credit_id': '59ac0240c3a3682cc802c399', 'gender': 2, 'id': 59256, 'name': 'Adam Herschman', 'order': 23, 'profile_path': '/wZMwiuX1DslF6hDS50z9OTN6z1X.jpg'}, {'cast_id': 66, 'character': 'Bridesmaid', 'credit_id': '59ac02cd925141079d02b1b4', 'gender': 1, 'id': 129714, 'name': 'Kisha Sierra', 'order': 24, 'profile_path': None}]\""
            ]
          },
          "metadata": {
            "tags": []
          },
          "execution_count": 41
        }
      ]
    },
    {
      "cell_type": "code",
      "metadata": {
        "id": "nDpSeakLydqv",
        "colab_type": "code",
        "outputId": "440dac1d-50b9-4de3-fa46-a49c5b1e63f2",
        "colab": {
          "base_uri": "https://localhost:8080/",
          "height": 633
        }
      },
      "source": [
        "df['genres'][470]=['Adventure']\n",
        "df['genres'][1622]=[ 'Drama', 'Comedy']\n",
        "df['genres'][1814]=['Comedy']\n",
        "df['genres'][1819]=['Romance', 'Drama']\n",
        "df['genres'][2423]=['Action', 'Drama', 'Romance']\n",
        "df['genres'][2686]=['Thriller']\n",
        "df['genres'][2900]=['Drama', 'Fantasy', 'Mystery']\n"
      ],
      "execution_count": 0,
      "outputs": [
        {
          "output_type": "stream",
          "text": [
            "/usr/local/lib/python3.6/dist-packages/ipykernel_launcher.py:1: SettingWithCopyWarning: \n",
            "A value is trying to be set on a copy of a slice from a DataFrame\n",
            "\n",
            "See the caveats in the documentation: http://pandas.pydata.org/pandas-docs/stable/indexing.html#indexing-view-versus-copy\n",
            "  \"\"\"Entry point for launching an IPython kernel.\n",
            "/usr/local/lib/python3.6/dist-packages/ipykernel_launcher.py:2: SettingWithCopyWarning: \n",
            "A value is trying to be set on a copy of a slice from a DataFrame\n",
            "\n",
            "See the caveats in the documentation: http://pandas.pydata.org/pandas-docs/stable/indexing.html#indexing-view-versus-copy\n",
            "  \n",
            "/usr/local/lib/python3.6/dist-packages/ipykernel_launcher.py:3: SettingWithCopyWarning: \n",
            "A value is trying to be set on a copy of a slice from a DataFrame\n",
            "\n",
            "See the caveats in the documentation: http://pandas.pydata.org/pandas-docs/stable/indexing.html#indexing-view-versus-copy\n",
            "  This is separate from the ipykernel package so we can avoid doing imports until\n",
            "/usr/local/lib/python3.6/dist-packages/ipykernel_launcher.py:4: SettingWithCopyWarning: \n",
            "A value is trying to be set on a copy of a slice from a DataFrame\n",
            "\n",
            "See the caveats in the documentation: http://pandas.pydata.org/pandas-docs/stable/indexing.html#indexing-view-versus-copy\n",
            "  after removing the cwd from sys.path.\n",
            "/usr/local/lib/python3.6/dist-packages/ipykernel_launcher.py:5: SettingWithCopyWarning: \n",
            "A value is trying to be set on a copy of a slice from a DataFrame\n",
            "\n",
            "See the caveats in the documentation: http://pandas.pydata.org/pandas-docs/stable/indexing.html#indexing-view-versus-copy\n",
            "  \"\"\"\n",
            "/usr/local/lib/python3.6/dist-packages/ipykernel_launcher.py:6: SettingWithCopyWarning: \n",
            "A value is trying to be set on a copy of a slice from a DataFrame\n",
            "\n",
            "See the caveats in the documentation: http://pandas.pydata.org/pandas-docs/stable/indexing.html#indexing-view-versus-copy\n",
            "  \n",
            "/usr/local/lib/python3.6/dist-packages/ipykernel_launcher.py:7: SettingWithCopyWarning: \n",
            "A value is trying to be set on a copy of a slice from a DataFrame\n",
            "\n",
            "See the caveats in the documentation: http://pandas.pydata.org/pandas-docs/stable/indexing.html#indexing-view-versus-copy\n",
            "  import sys\n"
          ],
          "name": "stderr"
        }
      ]
    },
    {
      "cell_type": "code",
      "metadata": {
        "id": "X7-yfdNfu0KM",
        "colab_type": "code",
        "colab": {}
      },
      "source": [
        "df.drop(['homepage','imdb_id','overview','poster_path','spoken_languages','Keywords','tagline','title','original_title'],axis=1,inplace=True)"
      ],
      "execution_count": 0,
      "outputs": []
    },
    {
      "cell_type": "code",
      "metadata": {
        "id": "xX0OEClj3qPC",
        "colab_type": "code",
        "outputId": "50bedb0f-770f-4250-e85f-c40f9cfdfb65",
        "colab": {
          "base_uri": "https://localhost:8080/",
          "height": 193
        }
      },
      "source": [
        "df['runtime'][1335]=130\n",
        "df['runtime'][2302]=87"
      ],
      "execution_count": 0,
      "outputs": [
        {
          "output_type": "stream",
          "text": [
            "/usr/local/lib/python3.6/dist-packages/ipykernel_launcher.py:1: SettingWithCopyWarning: \n",
            "A value is trying to be set on a copy of a slice from a DataFrame\n",
            "\n",
            "See the caveats in the documentation: http://pandas.pydata.org/pandas-docs/stable/indexing.html#indexing-view-versus-copy\n",
            "  \"\"\"Entry point for launching an IPython kernel.\n",
            "/usr/local/lib/python3.6/dist-packages/ipykernel_launcher.py:2: SettingWithCopyWarning: \n",
            "A value is trying to be set on a copy of a slice from a DataFrame\n",
            "\n",
            "See the caveats in the documentation: http://pandas.pydata.org/pandas-docs/stable/indexing.html#indexing-view-versus-copy\n",
            "  \n"
          ],
          "name": "stderr"
        }
      ]
    },
    {
      "cell_type": "code",
      "metadata": {
        "id": "RgWehD-6k4Ea",
        "colab_type": "code",
        "outputId": "75b317c2-3d95-481c-fbe2-a36ecb47db99",
        "colab": {
          "base_uri": "https://localhost:8080/",
          "height": 281
        }
      },
      "source": [
        "df.isnull().sum(axis=0)"
      ],
      "execution_count": 0,
      "outputs": [
        {
          "output_type": "execute_result",
          "data": {
            "text/plain": [
              "id                         0\n",
              "belongs_to_collection      0\n",
              "budget                     0\n",
              "genres                     0\n",
              "original_language          0\n",
              "popularity                 0\n",
              "production_companies     156\n",
              "production_countries      55\n",
              "release_date               0\n",
              "runtime                    0\n",
              "status                     0\n",
              "cast                      13\n",
              "crew                      16\n",
              "revenue                    0\n",
              "dtype: int64"
            ]
          },
          "metadata": {
            "tags": []
          },
          "execution_count": 15
        }
      ]
    },
    {
      "cell_type": "code",
      "metadata": {
        "id": "xlqs7f_DfUC2",
        "colab_type": "code",
        "colab": {}
      },
      "source": [
        "x=[]\n",
        "for index,row in df.iterrows():\n",
        "  try:\n",
        "    d=eval(df['production_companies'][index])\n",
        "    b=[]\n",
        "    for i in range(len(d)):\n",
        "      b.append(list(d[i].values())[0])\n",
        "  except:\n",
        "    b=[]\n",
        "  x.append(b)\n",
        "df['production_companies']=x\n"
      ],
      "execution_count": 0,
      "outputs": []
    },
    {
      "cell_type": "code",
      "metadata": {
        "id": "2lcdxaNf-HHM",
        "colab_type": "code",
        "outputId": "f3cd6ce5-7ac2-4507-d090-1432fa7ed17f",
        "colab": {
          "base_uri": "https://localhost:8080/",
          "height": 281
        }
      },
      "source": [
        "studios=df['production_companies'].apply(pd.Series).stack().unique()\n",
        "studios=studios[:30]\n",
        "studios"
      ],
      "execution_count": 0,
      "outputs": [
        {
          "output_type": "execute_result",
          "data": {
            "text/plain": [
              "array(['Paramount Pictures', 'United Artists',\n",
              "       'Metro-Goldwyn-Mayer (MGM)', 'Walt Disney Pictures', 'Bold Films',\n",
              "       'Blumhouse Productions', 'Right of Way Films',\n",
              "       'Ghost House Pictures', 'North Box Productions',\n",
              "       'Jim Henson Productions', 'Jim Henson Company, The',\n",
              "       'Castle Rock Entertainment',\n",
              "       'Twentieth Century Fox Film Corporation', 'Amercent Films',\n",
              "       'American Entertainment Partners L.P.',\n",
              "       'Interscope Communications', 'DreamWorks SKG',\n",
              "       'Jinks/Cohen Company', 'Double Feature Films', 'Jersey Films',\n",
              "       'Nina Saxon Film Design', 'Cruise/Wagner Productions',\n",
              "       'Amblin Entertainment', 'Blue Tulip Productions',\n",
              "       'Ronald Shusett/Gary Goldman', 'Digital Image Associates',\n",
              "       'Hypnopolis', 'Craven-Maddalena Films', 'BenderSpink', 'BBC Films'],\n",
              "      dtype=object)"
            ]
          },
          "metadata": {
            "tags": []
          },
          "execution_count": 17
        }
      ]
    },
    {
      "cell_type": "code",
      "metadata": {
        "id": "nKek5H6H6V2n",
        "colab_type": "code",
        "colab": {}
      },
      "source": [
        "x=[]\n",
        "for index,row in df.iterrows():\n",
        "  try:\n",
        "    d=eval(df['production_countries'][index])\n",
        "    b=[]\n",
        "    for i in range(len(d)):\n",
        "      b.append(list(d[i].values())[0])\n",
        "  except:\n",
        "    b=[]\n",
        "  x.append(b)\n",
        "df['production_countries']=x\n",
        "\n",
        "\n"
      ],
      "execution_count": 0,
      "outputs": []
    },
    {
      "cell_type": "code",
      "metadata": {
        "id": "X9kdbDV7f0Ea",
        "colab_type": "code",
        "colab": {}
      },
      "source": [
        "x=[]\n",
        "for index,row in df.iterrows():\n",
        "  try:\n",
        "    d=eval(df['cast'][index])\n",
        "    b=[]\n",
        "    for i in range(len(d)):\n",
        "      b.append(list(d[i].values())[0])\n",
        "  except:\n",
        "    b=[]\n",
        "  x.append(b)\n",
        "df['cast']=x\n"
      ],
      "execution_count": 0,
      "outputs": []
    },
    {
      "cell_type": "code",
      "metadata": {
        "id": "Hyc9zzGQEZdD",
        "colab_type": "code",
        "colab": {}
      },
      "source": [
        "casts=df['cast'].apply(pd.Series).stack().unique()\n",
        "casts=casts[:30]"
      ],
      "execution_count": 0,
      "outputs": []
    },
    {
      "cell_type": "code",
      "metadata": {
        "id": "Jklrc5q_84mG",
        "colab_type": "code",
        "colab": {}
      },
      "source": [
        "total_crew=[]\n",
        "for index,row in df.iterrows():\n",
        "  hi=df['crew'][index]\n",
        "  crew=[]\n",
        "  try:\n",
        "    ho=hi.rsplit(\"'Director', 'name': '\")[1]\n",
        "    he=ho.split(\"', \")\n",
        "    crew.append(he[0])\n",
        "  except:\n",
        "    crew.append(\"N/A\")\n",
        "\n",
        "  try:\n",
        "    ho=hi.rsplit(\"Producer\\', \\'name\\': \\'\")[1]\n",
        "    he=ho.split(\"', \")\n",
        "    crew.append(he[0])\n",
        "  except:\n",
        "    crew.append(\"N/A\")\n",
        "  try:\n",
        "    ho=hi.rsplit(\"'Director of Photography', 'name': '\")[1]\n",
        "    he=ho.split(\"', \")\n",
        "    crew.append(he[0])\n",
        "  except:\n",
        "    crew.append(\"N/A\")\n",
        "  total_crew.append(crew)\n",
        "total_crew\n",
        "df['crew']=total_crew\n",
        "df[\"director\"] = df[\"crew\"].str[0]\n",
        "df[\"producer\"] = df[\"crew\"].str[1]\n",
        "df[\"Director_of_photography\"] = df[\"crew\"].str[2]"
      ],
      "execution_count": 0,
      "outputs": []
    },
    {
      "cell_type": "code",
      "metadata": {
        "id": "I1HHVSpTo8ye",
        "colab_type": "code",
        "outputId": "b57bdc75-d04b-4b4c-9676-c433e9736cf0",
        "colab": {
          "base_uri": "https://localhost:8080/",
          "height": 425
        }
      },
      "source": [
        "df.head()"
      ],
      "execution_count": 0,
      "outputs": [
        {
          "output_type": "execute_result",
          "data": {
            "text/html": [
              "<div>\n",
              "<style scoped>\n",
              "    .dataframe tbody tr th:only-of-type {\n",
              "        vertical-align: middle;\n",
              "    }\n",
              "\n",
              "    .dataframe tbody tr th {\n",
              "        vertical-align: top;\n",
              "    }\n",
              "\n",
              "    .dataframe thead th {\n",
              "        text-align: right;\n",
              "    }\n",
              "</style>\n",
              "<table border=\"1\" class=\"dataframe\">\n",
              "  <thead>\n",
              "    <tr style=\"text-align: right;\">\n",
              "      <th></th>\n",
              "      <th>id</th>\n",
              "      <th>belongs_to_collection</th>\n",
              "      <th>budget</th>\n",
              "      <th>genres</th>\n",
              "      <th>original_language</th>\n",
              "      <th>popularity</th>\n",
              "      <th>production_companies</th>\n",
              "      <th>production_countries</th>\n",
              "      <th>release_date</th>\n",
              "      <th>runtime</th>\n",
              "      <th>status</th>\n",
              "      <th>cast</th>\n",
              "      <th>crew</th>\n",
              "      <th>revenue</th>\n",
              "      <th>director</th>\n",
              "      <th>producer</th>\n",
              "      <th>Director_of_photography</th>\n",
              "    </tr>\n",
              "  </thead>\n",
              "  <tbody>\n",
              "    <tr>\n",
              "      <th>0</th>\n",
              "      <td>1</td>\n",
              "      <td>Yes</td>\n",
              "      <td>14000000</td>\n",
              "      <td>[Comedy]</td>\n",
              "      <td>en</td>\n",
              "      <td>6.575</td>\n",
              "      <td>[Paramount Pictures, United Artists, Metro-Gol...</td>\n",
              "      <td>[US]</td>\n",
              "      <td>2/20/15</td>\n",
              "      <td>93.000</td>\n",
              "      <td>Released</td>\n",
              "      <td>[4, 5, 6, 7, 8, 9, 10, 11, 13, 14, 15, 16, 17,...</td>\n",
              "      <td>[Steve Pink, Andrew Panay, Declan Quinn]</td>\n",
              "      <td>12314651</td>\n",
              "      <td>Steve Pink</td>\n",
              "      <td>Andrew Panay</td>\n",
              "      <td>Declan Quinn</td>\n",
              "    </tr>\n",
              "    <tr>\n",
              "      <th>1</th>\n",
              "      <td>2</td>\n",
              "      <td>Yes</td>\n",
              "      <td>40000000</td>\n",
              "      <td>[Comedy, Drama, Family, Romance]</td>\n",
              "      <td>en</td>\n",
              "      <td>8.249</td>\n",
              "      <td>[Walt Disney Pictures]</td>\n",
              "      <td>[US]</td>\n",
              "      <td>8/6/04</td>\n",
              "      <td>113.000</td>\n",
              "      <td>Released</td>\n",
              "      <td>[1, 2, 3, 4, 5, 6, 7, 17, 18, 19, 21, 20, 22, ...</td>\n",
              "      <td>[Garry Marshall, Whitney Houston, Charles Minsky]</td>\n",
              "      <td>95149435</td>\n",
              "      <td>Garry Marshall</td>\n",
              "      <td>Whitney Houston</td>\n",
              "      <td>Charles Minsky</td>\n",
              "    </tr>\n",
              "    <tr>\n",
              "      <th>2</th>\n",
              "      <td>3</td>\n",
              "      <td>No</td>\n",
              "      <td>3300000</td>\n",
              "      <td>[Drama]</td>\n",
              "      <td>en</td>\n",
              "      <td>64.300</td>\n",
              "      <td>[Bold Films, Blumhouse Productions, Right of W...</td>\n",
              "      <td>[US]</td>\n",
              "      <td>10/10/14</td>\n",
              "      <td>105.000</td>\n",
              "      <td>Released</td>\n",
              "      <td>[5, 6, 11, 12, 13, 14, 15, 22, 23, 24, 25, 26,...</td>\n",
              "      <td>[Damien Chazelle, Jason Reitman, Sharone Meir]</td>\n",
              "      <td>13092000</td>\n",
              "      <td>Damien Chazelle</td>\n",
              "      <td>Jason Reitman</td>\n",
              "      <td>Sharone Meir</td>\n",
              "    </tr>\n",
              "    <tr>\n",
              "      <th>3</th>\n",
              "      <td>4</td>\n",
              "      <td>No</td>\n",
              "      <td>1200000</td>\n",
              "      <td>[Thriller, Drama]</td>\n",
              "      <td>hi</td>\n",
              "      <td>3.175</td>\n",
              "      <td>[]</td>\n",
              "      <td>[IN]</td>\n",
              "      <td>3/9/12</td>\n",
              "      <td>122.000</td>\n",
              "      <td>Released</td>\n",
              "      <td>[1, 5, 6, 7, 8, 9, 10]</td>\n",
              "      <td>[Sujoy Ghosh, Sujoy Ghosh, N/A]</td>\n",
              "      <td>16000000</td>\n",
              "      <td>Sujoy Ghosh</td>\n",
              "      <td>Sujoy Ghosh</td>\n",
              "      <td>N/A</td>\n",
              "    </tr>\n",
              "    <tr>\n",
              "      <th>4</th>\n",
              "      <td>5</td>\n",
              "      <td>No</td>\n",
              "      <td>0</td>\n",
              "      <td>[Action, Thriller]</td>\n",
              "      <td>ko</td>\n",
              "      <td>1.148</td>\n",
              "      <td>[]</td>\n",
              "      <td>[KR]</td>\n",
              "      <td>2/5/09</td>\n",
              "      <td>118.000</td>\n",
              "      <td>Released</td>\n",
              "      <td>[3, 4, 5, 7]</td>\n",
              "      <td>[Jong-seok Yoon, N/A, N/A]</td>\n",
              "      <td>3923970</td>\n",
              "      <td>Jong-seok Yoon</td>\n",
              "      <td>N/A</td>\n",
              "      <td>N/A</td>\n",
              "    </tr>\n",
              "  </tbody>\n",
              "</table>\n",
              "</div>"
            ],
            "text/plain": [
              "   id belongs_to_collection  ...         producer Director_of_photography\n",
              "0   1                   Yes  ...     Andrew Panay            Declan Quinn\n",
              "1   2                   Yes  ...  Whitney Houston          Charles Minsky\n",
              "2   3                    No  ...    Jason Reitman            Sharone Meir\n",
              "3   4                    No  ...      Sujoy Ghosh                     N/A\n",
              "4   5                    No  ...              N/A                     N/A\n",
              "\n",
              "[5 rows x 17 columns]"
            ]
          },
          "metadata": {
            "tags": []
          },
          "execution_count": 24
        }
      ]
    },
    {
      "cell_type": "code",
      "metadata": {
        "id": "6QEavm0z2BDB",
        "colab_type": "code",
        "colab": {}
      },
      "source": [
        "df=df.drop('crew',1)"
      ],
      "execution_count": 0,
      "outputs": []
    },
    {
      "cell_type": "code",
      "metadata": {
        "id": "XN5eT-Hw-Zfx",
        "colab_type": "code",
        "colab": {}
      },
      "source": [
        "cols=df.columns\n",
        "cols"
      ],
      "execution_count": 0,
      "outputs": []
    },
    {
      "cell_type": "code",
      "metadata": {
        "id": "_23xfFWjju-9",
        "colab_type": "code",
        "colab": {}
      },
      "source": [
        "producers=df['producer'].apply(pd.Series).stack().unique()\n",
        "producers=producers[:30]\n",
        "dop=df['Director_of_photography'].apply(pd.Series).stack().unique()\n",
        "dop=dop[:30]\n",
        "directors=df['director'].apply(pd.Series).stack().unique()\n",
        "directors=directors[:30]"
      ],
      "execution_count": 0,
      "outputs": []
    },
    {
      "cell_type": "code",
      "metadata": {
        "id": "vY7z4iVCgB3F",
        "colab_type": "code",
        "colab": {}
      },
      "source": [
        "from sklearn.preprocessing import MultiLabelBinarizer\n",
        "\n",
        "mlb = MultiLabelBinarizer()\n",
        "df = df.join(pd.DataFrame(mlb.fit_transform(df.pop('genres')),\n",
        "                          columns=mlb.classes_,\n",
        "                          index=df.index))"
      ],
      "execution_count": 0,
      "outputs": []
    },
    {
      "cell_type": "code",
      "metadata": {
        "id": "t_FGV1PQi43P",
        "colab_type": "code",
        "colab": {}
      },
      "source": [
        "from sklearn.preprocessing import MultiLabelBinarizer\n",
        "\n",
        "mlb = MultiLabelBinarizer()\n",
        "df = df.join(pd.DataFrame(mlb.fit_transform(df.pop('production_companies')),\n",
        "                          columns=mlb.classes_,\n",
        "                          index=df.index))"
      ],
      "execution_count": 0,
      "outputs": []
    },
    {
      "cell_type": "code",
      "metadata": {
        "id": "x1YfebGDizDu",
        "colab_type": "code",
        "colab": {}
      },
      "source": [
        "\n",
        "from sklearn.preprocessing import MultiLabelBinarizer\n",
        "\n",
        "mlb = MultiLabelBinarizer()\n",
        "df = df.join(pd.DataFrame(mlb.fit_transform(df.pop('cast')),\n",
        "                          columns=mlb.classes_,\n",
        "                          index=df.index))"
      ],
      "execution_count": 0,
      "outputs": []
    },
    {
      "cell_type": "code",
      "metadata": {
        "id": "YzOtx-fCEMob",
        "colab_type": "code",
        "colab": {}
      },
      "source": [
        "column=list(cols)+list(studios)+list(casts)\n",
        "column.remove(\"genres\")\n",
        "column.remove(\"production_companies\")\n",
        "column.remove(\"cast\")\n",
        "df=df[column]"
      ],
      "execution_count": 0,
      "outputs": []
    },
    {
      "cell_type": "code",
      "metadata": {
        "id": "PWmw8bXnDjoB",
        "colab_type": "code",
        "colab": {}
      },
      "source": [
        "\n",
        "from sklearn.preprocessing import MultiLabelBinarizer\n",
        "mlb = MultiLabelBinarizer()\n",
        "df = df.join(pd.DataFrame(mlb.fit_transform(df.pop('production_countries')),\n",
        "                          columns=mlb.classes_,\n",
        "                          index=df.index))\n"
      ],
      "execution_count": 0,
      "outputs": []
    },
    {
      "cell_type": "code",
      "metadata": {
        "id": "ST5BfwY3EEWg",
        "colab_type": "code",
        "colab": {}
      },
      "source": [
        "from sklearn.preprocessing import LabelEncoder\n",
        "lbl=LabelEncoder()\n",
        "df['belongs_to_collection']=lbl.fit_transform(df['belongs_to_collection'])\n",
        "from sklearn.preprocessing import LabelEncoder\n",
        "lbl=LabelEncoder()\n",
        "df['status']=lbl.fit_transform(df['status'])"
      ],
      "execution_count": 0,
      "outputs": []
    },
    {
      "cell_type": "code",
      "metadata": {
        "id": "lrXxp3x55V2M",
        "colab_type": "code",
        "colab": {}
      },
      "source": [
        "language=pd.get_dummies(df.original_language)\n",
        "language.drop('ar' ,1)\n",
        "df1=pd.concat([df,language],1)\n",
        "df1.drop('original_language',1, inplace=True)\n",
        "\n"
      ],
      "execution_count": 0,
      "outputs": []
    },
    {
      "cell_type": "code",
      "metadata": {
        "id": "c5GQFkqJ94AN",
        "colab_type": "code",
        "colab": {}
      },
      "source": [
        "dire=pd.get_dummies(df.director)\n",
        "dire=dire[directors]\n",
        "df1=pd.concat([df1,dire],1)\n",
        "df1.drop('director',1, inplace=True)\n",
        "\n",
        "pros=pd.get_dummies(df.producer)\n",
        "pros=pros[producers]\n",
        "df1=pd.concat([df1,pros],1)\n",
        "df1.drop('producer',1, inplace=True)\n",
        "\n",
        "phos=pd.get_dummies(df.Director_of_photography)\n",
        "phos=phos[dop]\n",
        "df1=pd.concat([df1,phos],1)\n",
        "df1.drop('Director_of_photography',1, inplace=True)\n"
      ],
      "execution_count": 0,
      "outputs": []
    },
    {
      "cell_type": "code",
      "metadata": {
        "id": "EMyKipm40fDc",
        "colab_type": "code",
        "colab": {}
      },
      "source": [
        "import datetime as dt\n",
        "for i in df1.index:\n",
        "       if pd.notna(df1['release_date'][i]): \n",
        "            df1['release_date'][i]=dt.datetime.strptime(df1['release_date'][i],'%m/%d/%y')"
      ],
      "execution_count": 0,
      "outputs": []
    },
    {
      "cell_type": "code",
      "metadata": {
        "id": "xTrNCpOvJ_q3",
        "colab_type": "code",
        "colab": {}
      },
      "source": [
        "df1.drop(\"N/A\",1)\n",
        "df1['release_date'][i]=dt.datetime.strptime(df1['release_date'][i],'%m/%d/%y')"
      ],
      "execution_count": 0,
      "outputs": []
    },
    {
      "cell_type": "code",
      "metadata": {
        "id": "S3BrOmJX9IDi",
        "colab_type": "code",
        "colab": {}
      },
      "source": [
        "year = lambda x: dt.datetime.strptime(x, \"%m/%d/%y\" ).year\n",
        "df1['year'] = df1['release_date'].map(year)\n",
        "month = lambda x: dt.datetime.strptime(x, \"%m/%d/%y\" ).month\n",
        "df1['month'] = df1['release_date'].map(month)\n",
        "day = lambda x: dt.datetime.strptime(x, \"%m/%d/%y\" ).day\n",
        "df1['day'] = df1['release_date'].map(day)\n",
        "day_of_week = lambda x: dt.datetime.strptime(x, \"%m/%d/%y\" ).weekday()\n",
        "df1['week_day']=df1['release_date'].map(day_of_week)"
      ],
      "execution_count": 0,
      "outputs": []
    },
    {
      "cell_type": "code",
      "metadata": {
        "id": "hXKkQr-pPwHh",
        "colab_type": "code",
        "colab": {}
      },
      "source": [
        "df1['year']=df1['year'].astype(str)\n",
        "df1['month']='month' + df1['month'].astype(str)\n",
        "df1['day']='day' + df1['day'].astype(str)\n",
        "df1['week_day']='week_day' + df1['week_day'].astype(str)\n"
      ],
      "execution_count": 0,
      "outputs": []
    },
    {
      "cell_type": "code",
      "metadata": {
        "id": "gUpO92t8SGOF",
        "colab_type": "code",
        "colab": {}
      },
      "source": [
        "months=pd.get_dummies(df1.month)\n",
        "months.drop('month2' ,1)\n",
        "df1=pd.concat([df1,months],1)\n",
        "df1.drop('month',1, inplace=True)\n",
        "\n",
        "years=pd.get_dummies(df1.year)\n",
        "years.drop('2015' ,1)\n",
        "df1=pd.concat([df1,years],1)\n",
        "df1.drop('year',1, inplace=True)\n",
        "\n",
        "days=pd.get_dummies(df1.day)\n",
        "days.drop('day1' ,1)\n",
        "df1=pd.concat([df1,days],1)\n",
        "df1.drop('day',1, inplace=True)\n",
        "\n",
        "weekdays=pd.get_dummies(df1.week_day)\n",
        "weekdays.drop('week_day1' ,1)\n",
        "df1=pd.concat([df1,weekdays],1)\n",
        "df1.drop('week_day',1, inplace=True)\n",
        "\n"
      ],
      "execution_count": 0,
      "outputs": []
    },
    {
      "cell_type": "code",
      "metadata": {
        "id": "NMituEV1Rds6",
        "colab_type": "code",
        "colab": {}
      },
      "source": [
        "df1.drop(\"release_date\",1,inplace=True)\n",
        "df1.head()"
      ],
      "execution_count": 0,
      "outputs": []
    },
    {
      "cell_type": "code",
      "metadata": {
        "id": "fKbkXnNEUMr0",
        "colab_type": "code",
        "outputId": "347b3391-bad6-479e-826b-0d680eba1e25",
        "colab": {
          "base_uri": "https://localhost:8080/",
          "height": 34
        }
      },
      "source": [
        "df1 = df1[df1.budget!=0]\n",
        "df1.shape"
      ],
      "execution_count": 0,
      "outputs": [
        {
          "output_type": "execute_result",
          "data": {
            "text/plain": [
              "(2188, 407)"
            ]
          },
          "metadata": {
            "tags": []
          },
          "execution_count": 39
        }
      ]
    },
    {
      "cell_type": "code",
      "metadata": {
        "id": "29WW3RlWb2if",
        "colab_type": "code",
        "outputId": "95622d04-697d-4eed-c7d2-faaad66a7f44",
        "colab": {
          "base_uri": "https://localhost:8080/",
          "height": 303
        }
      },
      "source": [
        "y=df1['revenue']\n",
        "df1.drop('revenue',1,inplace=True)\n",
        "df1['revenue']=y\n",
        "df1.head()"
      ],
      "execution_count": 0,
      "outputs": [
        {
          "output_type": "execute_result",
          "data": {
            "text/html": [
              "<div>\n",
              "<style scoped>\n",
              "    .dataframe tbody tr th:only-of-type {\n",
              "        vertical-align: middle;\n",
              "    }\n",
              "\n",
              "    .dataframe tbody tr th {\n",
              "        vertical-align: top;\n",
              "    }\n",
              "\n",
              "    .dataframe thead th {\n",
              "        text-align: right;\n",
              "    }\n",
              "</style>\n",
              "<table border=\"1\" class=\"dataframe\">\n",
              "  <thead>\n",
              "    <tr style=\"text-align: right;\">\n",
              "      <th></th>\n",
              "      <th>id</th>\n",
              "      <th>belongs_to_collection</th>\n",
              "      <th>budget</th>\n",
              "      <th>popularity</th>\n",
              "      <th>runtime</th>\n",
              "      <th>status</th>\n",
              "      <th>Paramount Pictures</th>\n",
              "      <th>United Artists</th>\n",
              "      <th>Metro-Goldwyn-Mayer (MGM)</th>\n",
              "      <th>Walt Disney Pictures</th>\n",
              "      <th>Bold Films</th>\n",
              "      <th>Blumhouse Productions</th>\n",
              "      <th>Right of Way Films</th>\n",
              "      <th>Ghost House Pictures</th>\n",
              "      <th>North Box Productions</th>\n",
              "      <th>Jim Henson Productions</th>\n",
              "      <th>Jim Henson Company, The</th>\n",
              "      <th>Castle Rock Entertainment</th>\n",
              "      <th>Twentieth Century Fox Film Corporation</th>\n",
              "      <th>Amercent Films</th>\n",
              "      <th>American Entertainment Partners L.P.</th>\n",
              "      <th>Interscope Communications</th>\n",
              "      <th>DreamWorks SKG</th>\n",
              "      <th>Jinks/Cohen Company</th>\n",
              "      <th>Double Feature Films</th>\n",
              "      <th>Jersey Films</th>\n",
              "      <th>Nina Saxon Film Design</th>\n",
              "      <th>Cruise/Wagner Productions</th>\n",
              "      <th>Amblin Entertainment</th>\n",
              "      <th>Blue Tulip Productions</th>\n",
              "      <th>Ronald Shusett/Gary Goldman</th>\n",
              "      <th>Digital Image Associates</th>\n",
              "      <th>Hypnopolis</th>\n",
              "      <th>Craven-Maddalena Films</th>\n",
              "      <th>BenderSpink</th>\n",
              "      <th>BBC Films</th>\n",
              "      <th>4</th>\n",
              "      <th>5</th>\n",
              "      <th>6</th>\n",
              "      <th>7</th>\n",
              "      <th>...</th>\n",
              "      <th>2068</th>\n",
              "      <th>day1</th>\n",
              "      <th>day10</th>\n",
              "      <th>day11</th>\n",
              "      <th>day12</th>\n",
              "      <th>day13</th>\n",
              "      <th>day14</th>\n",
              "      <th>day15</th>\n",
              "      <th>day16</th>\n",
              "      <th>day17</th>\n",
              "      <th>day18</th>\n",
              "      <th>day19</th>\n",
              "      <th>day2</th>\n",
              "      <th>day20</th>\n",
              "      <th>day21</th>\n",
              "      <th>day22</th>\n",
              "      <th>day23</th>\n",
              "      <th>day24</th>\n",
              "      <th>day25</th>\n",
              "      <th>day26</th>\n",
              "      <th>day27</th>\n",
              "      <th>day28</th>\n",
              "      <th>day29</th>\n",
              "      <th>day3</th>\n",
              "      <th>day30</th>\n",
              "      <th>day31</th>\n",
              "      <th>day4</th>\n",
              "      <th>day5</th>\n",
              "      <th>day6</th>\n",
              "      <th>day7</th>\n",
              "      <th>day8</th>\n",
              "      <th>day9</th>\n",
              "      <th>week_day0</th>\n",
              "      <th>week_day1</th>\n",
              "      <th>week_day2</th>\n",
              "      <th>week_day3</th>\n",
              "      <th>week_day4</th>\n",
              "      <th>week_day5</th>\n",
              "      <th>week_day6</th>\n",
              "      <th>revenue</th>\n",
              "    </tr>\n",
              "  </thead>\n",
              "  <tbody>\n",
              "    <tr>\n",
              "      <th>0</th>\n",
              "      <td>1</td>\n",
              "      <td>1</td>\n",
              "      <td>14000000</td>\n",
              "      <td>6.575</td>\n",
              "      <td>93.000</td>\n",
              "      <td>0</td>\n",
              "      <td>1</td>\n",
              "      <td>1</td>\n",
              "      <td>1</td>\n",
              "      <td>0</td>\n",
              "      <td>0</td>\n",
              "      <td>0</td>\n",
              "      <td>0</td>\n",
              "      <td>0</td>\n",
              "      <td>0</td>\n",
              "      <td>0</td>\n",
              "      <td>0</td>\n",
              "      <td>0</td>\n",
              "      <td>0</td>\n",
              "      <td>0</td>\n",
              "      <td>0</td>\n",
              "      <td>0</td>\n",
              "      <td>0</td>\n",
              "      <td>0</td>\n",
              "      <td>0</td>\n",
              "      <td>0</td>\n",
              "      <td>0</td>\n",
              "      <td>0</td>\n",
              "      <td>0</td>\n",
              "      <td>0</td>\n",
              "      <td>0</td>\n",
              "      <td>0</td>\n",
              "      <td>0</td>\n",
              "      <td>0</td>\n",
              "      <td>0</td>\n",
              "      <td>0</td>\n",
              "      <td>1</td>\n",
              "      <td>1</td>\n",
              "      <td>1</td>\n",
              "      <td>1</td>\n",
              "      <td>...</td>\n",
              "      <td>0</td>\n",
              "      <td>0</td>\n",
              "      <td>0</td>\n",
              "      <td>0</td>\n",
              "      <td>0</td>\n",
              "      <td>0</td>\n",
              "      <td>0</td>\n",
              "      <td>0</td>\n",
              "      <td>0</td>\n",
              "      <td>0</td>\n",
              "      <td>0</td>\n",
              "      <td>0</td>\n",
              "      <td>0</td>\n",
              "      <td>1</td>\n",
              "      <td>0</td>\n",
              "      <td>0</td>\n",
              "      <td>0</td>\n",
              "      <td>0</td>\n",
              "      <td>0</td>\n",
              "      <td>0</td>\n",
              "      <td>0</td>\n",
              "      <td>0</td>\n",
              "      <td>0</td>\n",
              "      <td>0</td>\n",
              "      <td>0</td>\n",
              "      <td>0</td>\n",
              "      <td>0</td>\n",
              "      <td>0</td>\n",
              "      <td>0</td>\n",
              "      <td>0</td>\n",
              "      <td>0</td>\n",
              "      <td>0</td>\n",
              "      <td>0</td>\n",
              "      <td>0</td>\n",
              "      <td>0</td>\n",
              "      <td>0</td>\n",
              "      <td>1</td>\n",
              "      <td>0</td>\n",
              "      <td>0</td>\n",
              "      <td>12314651</td>\n",
              "    </tr>\n",
              "    <tr>\n",
              "      <th>1</th>\n",
              "      <td>2</td>\n",
              "      <td>1</td>\n",
              "      <td>40000000</td>\n",
              "      <td>8.249</td>\n",
              "      <td>113.000</td>\n",
              "      <td>0</td>\n",
              "      <td>0</td>\n",
              "      <td>0</td>\n",
              "      <td>0</td>\n",
              "      <td>1</td>\n",
              "      <td>0</td>\n",
              "      <td>0</td>\n",
              "      <td>0</td>\n",
              "      <td>0</td>\n",
              "      <td>0</td>\n",
              "      <td>0</td>\n",
              "      <td>0</td>\n",
              "      <td>0</td>\n",
              "      <td>0</td>\n",
              "      <td>0</td>\n",
              "      <td>0</td>\n",
              "      <td>0</td>\n",
              "      <td>0</td>\n",
              "      <td>0</td>\n",
              "      <td>0</td>\n",
              "      <td>0</td>\n",
              "      <td>0</td>\n",
              "      <td>0</td>\n",
              "      <td>0</td>\n",
              "      <td>0</td>\n",
              "      <td>0</td>\n",
              "      <td>0</td>\n",
              "      <td>0</td>\n",
              "      <td>0</td>\n",
              "      <td>0</td>\n",
              "      <td>0</td>\n",
              "      <td>1</td>\n",
              "      <td>1</td>\n",
              "      <td>1</td>\n",
              "      <td>1</td>\n",
              "      <td>...</td>\n",
              "      <td>0</td>\n",
              "      <td>0</td>\n",
              "      <td>0</td>\n",
              "      <td>0</td>\n",
              "      <td>0</td>\n",
              "      <td>0</td>\n",
              "      <td>0</td>\n",
              "      <td>0</td>\n",
              "      <td>0</td>\n",
              "      <td>0</td>\n",
              "      <td>0</td>\n",
              "      <td>0</td>\n",
              "      <td>0</td>\n",
              "      <td>0</td>\n",
              "      <td>0</td>\n",
              "      <td>0</td>\n",
              "      <td>0</td>\n",
              "      <td>0</td>\n",
              "      <td>0</td>\n",
              "      <td>0</td>\n",
              "      <td>0</td>\n",
              "      <td>0</td>\n",
              "      <td>0</td>\n",
              "      <td>0</td>\n",
              "      <td>0</td>\n",
              "      <td>0</td>\n",
              "      <td>0</td>\n",
              "      <td>0</td>\n",
              "      <td>1</td>\n",
              "      <td>0</td>\n",
              "      <td>0</td>\n",
              "      <td>0</td>\n",
              "      <td>0</td>\n",
              "      <td>0</td>\n",
              "      <td>0</td>\n",
              "      <td>0</td>\n",
              "      <td>1</td>\n",
              "      <td>0</td>\n",
              "      <td>0</td>\n",
              "      <td>95149435</td>\n",
              "    </tr>\n",
              "    <tr>\n",
              "      <th>2</th>\n",
              "      <td>3</td>\n",
              "      <td>0</td>\n",
              "      <td>3300000</td>\n",
              "      <td>64.300</td>\n",
              "      <td>105.000</td>\n",
              "      <td>0</td>\n",
              "      <td>0</td>\n",
              "      <td>0</td>\n",
              "      <td>0</td>\n",
              "      <td>0</td>\n",
              "      <td>1</td>\n",
              "      <td>1</td>\n",
              "      <td>1</td>\n",
              "      <td>0</td>\n",
              "      <td>0</td>\n",
              "      <td>0</td>\n",
              "      <td>0</td>\n",
              "      <td>0</td>\n",
              "      <td>0</td>\n",
              "      <td>0</td>\n",
              "      <td>0</td>\n",
              "      <td>0</td>\n",
              "      <td>0</td>\n",
              "      <td>0</td>\n",
              "      <td>0</td>\n",
              "      <td>0</td>\n",
              "      <td>0</td>\n",
              "      <td>0</td>\n",
              "      <td>0</td>\n",
              "      <td>0</td>\n",
              "      <td>0</td>\n",
              "      <td>0</td>\n",
              "      <td>0</td>\n",
              "      <td>0</td>\n",
              "      <td>0</td>\n",
              "      <td>0</td>\n",
              "      <td>0</td>\n",
              "      <td>1</td>\n",
              "      <td>1</td>\n",
              "      <td>0</td>\n",
              "      <td>...</td>\n",
              "      <td>0</td>\n",
              "      <td>0</td>\n",
              "      <td>1</td>\n",
              "      <td>0</td>\n",
              "      <td>0</td>\n",
              "      <td>0</td>\n",
              "      <td>0</td>\n",
              "      <td>0</td>\n",
              "      <td>0</td>\n",
              "      <td>0</td>\n",
              "      <td>0</td>\n",
              "      <td>0</td>\n",
              "      <td>0</td>\n",
              "      <td>0</td>\n",
              "      <td>0</td>\n",
              "      <td>0</td>\n",
              "      <td>0</td>\n",
              "      <td>0</td>\n",
              "      <td>0</td>\n",
              "      <td>0</td>\n",
              "      <td>0</td>\n",
              "      <td>0</td>\n",
              "      <td>0</td>\n",
              "      <td>0</td>\n",
              "      <td>0</td>\n",
              "      <td>0</td>\n",
              "      <td>0</td>\n",
              "      <td>0</td>\n",
              "      <td>0</td>\n",
              "      <td>0</td>\n",
              "      <td>0</td>\n",
              "      <td>0</td>\n",
              "      <td>0</td>\n",
              "      <td>0</td>\n",
              "      <td>0</td>\n",
              "      <td>0</td>\n",
              "      <td>1</td>\n",
              "      <td>0</td>\n",
              "      <td>0</td>\n",
              "      <td>13092000</td>\n",
              "    </tr>\n",
              "    <tr>\n",
              "      <th>3</th>\n",
              "      <td>4</td>\n",
              "      <td>0</td>\n",
              "      <td>1200000</td>\n",
              "      <td>3.175</td>\n",
              "      <td>122.000</td>\n",
              "      <td>0</td>\n",
              "      <td>0</td>\n",
              "      <td>0</td>\n",
              "      <td>0</td>\n",
              "      <td>0</td>\n",
              "      <td>0</td>\n",
              "      <td>0</td>\n",
              "      <td>0</td>\n",
              "      <td>0</td>\n",
              "      <td>0</td>\n",
              "      <td>0</td>\n",
              "      <td>0</td>\n",
              "      <td>0</td>\n",
              "      <td>0</td>\n",
              "      <td>0</td>\n",
              "      <td>0</td>\n",
              "      <td>0</td>\n",
              "      <td>0</td>\n",
              "      <td>0</td>\n",
              "      <td>0</td>\n",
              "      <td>0</td>\n",
              "      <td>0</td>\n",
              "      <td>0</td>\n",
              "      <td>0</td>\n",
              "      <td>0</td>\n",
              "      <td>0</td>\n",
              "      <td>0</td>\n",
              "      <td>0</td>\n",
              "      <td>0</td>\n",
              "      <td>0</td>\n",
              "      <td>0</td>\n",
              "      <td>0</td>\n",
              "      <td>1</td>\n",
              "      <td>1</td>\n",
              "      <td>1</td>\n",
              "      <td>...</td>\n",
              "      <td>0</td>\n",
              "      <td>0</td>\n",
              "      <td>0</td>\n",
              "      <td>0</td>\n",
              "      <td>0</td>\n",
              "      <td>0</td>\n",
              "      <td>0</td>\n",
              "      <td>0</td>\n",
              "      <td>0</td>\n",
              "      <td>0</td>\n",
              "      <td>0</td>\n",
              "      <td>0</td>\n",
              "      <td>0</td>\n",
              "      <td>0</td>\n",
              "      <td>0</td>\n",
              "      <td>0</td>\n",
              "      <td>0</td>\n",
              "      <td>0</td>\n",
              "      <td>0</td>\n",
              "      <td>0</td>\n",
              "      <td>0</td>\n",
              "      <td>0</td>\n",
              "      <td>0</td>\n",
              "      <td>0</td>\n",
              "      <td>0</td>\n",
              "      <td>0</td>\n",
              "      <td>0</td>\n",
              "      <td>0</td>\n",
              "      <td>0</td>\n",
              "      <td>0</td>\n",
              "      <td>0</td>\n",
              "      <td>1</td>\n",
              "      <td>0</td>\n",
              "      <td>0</td>\n",
              "      <td>0</td>\n",
              "      <td>0</td>\n",
              "      <td>1</td>\n",
              "      <td>0</td>\n",
              "      <td>0</td>\n",
              "      <td>16000000</td>\n",
              "    </tr>\n",
              "    <tr>\n",
              "      <th>5</th>\n",
              "      <td>6</td>\n",
              "      <td>0</td>\n",
              "      <td>8000000</td>\n",
              "      <td>0.743</td>\n",
              "      <td>83.000</td>\n",
              "      <td>0</td>\n",
              "      <td>0</td>\n",
              "      <td>0</td>\n",
              "      <td>0</td>\n",
              "      <td>0</td>\n",
              "      <td>0</td>\n",
              "      <td>0</td>\n",
              "      <td>0</td>\n",
              "      <td>0</td>\n",
              "      <td>0</td>\n",
              "      <td>0</td>\n",
              "      <td>0</td>\n",
              "      <td>0</td>\n",
              "      <td>0</td>\n",
              "      <td>0</td>\n",
              "      <td>0</td>\n",
              "      <td>0</td>\n",
              "      <td>0</td>\n",
              "      <td>0</td>\n",
              "      <td>0</td>\n",
              "      <td>0</td>\n",
              "      <td>0</td>\n",
              "      <td>0</td>\n",
              "      <td>0</td>\n",
              "      <td>0</td>\n",
              "      <td>0</td>\n",
              "      <td>0</td>\n",
              "      <td>0</td>\n",
              "      <td>0</td>\n",
              "      <td>0</td>\n",
              "      <td>0</td>\n",
              "      <td>0</td>\n",
              "      <td>0</td>\n",
              "      <td>1</td>\n",
              "      <td>1</td>\n",
              "      <td>...</td>\n",
              "      <td>0</td>\n",
              "      <td>0</td>\n",
              "      <td>0</td>\n",
              "      <td>0</td>\n",
              "      <td>0</td>\n",
              "      <td>0</td>\n",
              "      <td>0</td>\n",
              "      <td>0</td>\n",
              "      <td>0</td>\n",
              "      <td>0</td>\n",
              "      <td>0</td>\n",
              "      <td>0</td>\n",
              "      <td>0</td>\n",
              "      <td>0</td>\n",
              "      <td>0</td>\n",
              "      <td>0</td>\n",
              "      <td>0</td>\n",
              "      <td>0</td>\n",
              "      <td>0</td>\n",
              "      <td>0</td>\n",
              "      <td>0</td>\n",
              "      <td>0</td>\n",
              "      <td>0</td>\n",
              "      <td>0</td>\n",
              "      <td>0</td>\n",
              "      <td>0</td>\n",
              "      <td>0</td>\n",
              "      <td>0</td>\n",
              "      <td>1</td>\n",
              "      <td>0</td>\n",
              "      <td>0</td>\n",
              "      <td>0</td>\n",
              "      <td>0</td>\n",
              "      <td>0</td>\n",
              "      <td>0</td>\n",
              "      <td>1</td>\n",
              "      <td>0</td>\n",
              "      <td>0</td>\n",
              "      <td>0</td>\n",
              "      <td>3261638</td>\n",
              "    </tr>\n",
              "  </tbody>\n",
              "</table>\n",
              "<p>5 rows × 407 columns</p>\n",
              "</div>"
            ],
            "text/plain": [
              "   id  belongs_to_collection    budget  ...  week_day5  week_day6   revenue\n",
              "0   1                      1  14000000  ...          0          0  12314651\n",
              "1   2                      1  40000000  ...          0          0  95149435\n",
              "2   3                      0   3300000  ...          0          0  13092000\n",
              "3   4                      0   1200000  ...          0          0  16000000\n",
              "5   6                      0   8000000  ...          0          0   3261638\n",
              "\n",
              "[5 rows x 407 columns]"
            ]
          },
          "metadata": {
            "tags": []
          },
          "execution_count": 40
        }
      ]
    },
    {
      "cell_type": "code",
      "metadata": {
        "id": "iqv_whSLZR-H",
        "colab_type": "code",
        "colab": {}
      },
      "source": [
        "X=df1.drop('revenue',1)"
      ],
      "execution_count": 0,
      "outputs": []
    },
    {
      "cell_type": "code",
      "metadata": {
        "id": "Pu31khIUbfac",
        "colab_type": "code",
        "colab": {}
      },
      "source": [
        ""
      ],
      "execution_count": 0,
      "outputs": []
    },
    {
      "cell_type": "code",
      "metadata": {
        "id": "-Uxe9vnxb77b",
        "colab_type": "code",
        "colab": {}
      },
      "source": [
        "y=np.log1p(y)"
      ],
      "execution_count": 0,
      "outputs": []
    },
    {
      "cell_type": "code",
      "metadata": {
        "id": "-uemxB1tb7Y4",
        "colab_type": "code",
        "outputId": "d296eef2-270f-4213-b0c1-df9bf8dcdd1e",
        "colab": {
          "base_uri": "https://localhost:8080/",
          "height": 122
        }
      },
      "source": [
        "X['budget']=np.log1p(X['budget'])"
      ],
      "execution_count": 0,
      "outputs": [
        {
          "output_type": "stream",
          "text": [
            "/usr/local/lib/python3.6/dist-packages/ipykernel_launcher.py:1: SettingWithCopyWarning: \n",
            "A value is trying to be set on a copy of a slice from a DataFrame.\n",
            "Try using .loc[row_indexer,col_indexer] = value instead\n",
            "\n",
            "See the caveats in the documentation: http://pandas.pydata.org/pandas-docs/stable/indexing.html#indexing-view-versus-copy\n",
            "  \"\"\"Entry point for launching an IPython kernel.\n"
          ],
          "name": "stderr"
        }
      ]
    },
    {
      "cell_type": "code",
      "metadata": {
        "id": "tPGRGG6PcAHQ",
        "colab_type": "code",
        "outputId": "ff9f10e1-0c99-4931-8652-bfed4e1499aa",
        "colab": {
          "base_uri": "https://localhost:8080/",
          "height": 228
        }
      },
      "source": [
        "X['popularity']=np.log1p(X['popularity'])\n",
        "X['runtime']=np.log1p(X['runtime'])"
      ],
      "execution_count": 0,
      "outputs": [
        {
          "output_type": "stream",
          "text": [
            "/usr/local/lib/python3.6/dist-packages/ipykernel_launcher.py:1: SettingWithCopyWarning: \n",
            "A value is trying to be set on a copy of a slice from a DataFrame.\n",
            "Try using .loc[row_indexer,col_indexer] = value instead\n",
            "\n",
            "See the caveats in the documentation: http://pandas.pydata.org/pandas-docs/stable/indexing.html#indexing-view-versus-copy\n",
            "  \"\"\"Entry point for launching an IPython kernel.\n",
            "/usr/local/lib/python3.6/dist-packages/ipykernel_launcher.py:2: SettingWithCopyWarning: \n",
            "A value is trying to be set on a copy of a slice from a DataFrame.\n",
            "Try using .loc[row_indexer,col_indexer] = value instead\n",
            "\n",
            "See the caveats in the documentation: http://pandas.pydata.org/pandas-docs/stable/indexing.html#indexing-view-versus-copy\n",
            "  \n"
          ],
          "name": "stderr"
        }
      ]
    },
    {
      "cell_type": "code",
      "metadata": {
        "id": "6htZt6OUdc_d",
        "colab_type": "code",
        "outputId": "f57d611e-0bdc-4a82-bfa2-49f9feae0dcf",
        "colab": {
          "base_uri": "https://localhost:8080/",
          "height": 303
        }
      },
      "source": [
        "X.head()"
      ],
      "execution_count": 0,
      "outputs": [
        {
          "output_type": "execute_result",
          "data": {
            "text/html": [
              "<div>\n",
              "<style scoped>\n",
              "    .dataframe tbody tr th:only-of-type {\n",
              "        vertical-align: middle;\n",
              "    }\n",
              "\n",
              "    .dataframe tbody tr th {\n",
              "        vertical-align: top;\n",
              "    }\n",
              "\n",
              "    .dataframe thead th {\n",
              "        text-align: right;\n",
              "    }\n",
              "</style>\n",
              "<table border=\"1\" class=\"dataframe\">\n",
              "  <thead>\n",
              "    <tr style=\"text-align: right;\">\n",
              "      <th></th>\n",
              "      <th>id</th>\n",
              "      <th>belongs_to_collection</th>\n",
              "      <th>budget</th>\n",
              "      <th>popularity</th>\n",
              "      <th>runtime</th>\n",
              "      <th>status</th>\n",
              "      <th>Paramount Pictures</th>\n",
              "      <th>United Artists</th>\n",
              "      <th>Metro-Goldwyn-Mayer (MGM)</th>\n",
              "      <th>Walt Disney Pictures</th>\n",
              "      <th>Bold Films</th>\n",
              "      <th>Blumhouse Productions</th>\n",
              "      <th>Right of Way Films</th>\n",
              "      <th>Ghost House Pictures</th>\n",
              "      <th>North Box Productions</th>\n",
              "      <th>Jim Henson Productions</th>\n",
              "      <th>Jim Henson Company, The</th>\n",
              "      <th>Castle Rock Entertainment</th>\n",
              "      <th>Twentieth Century Fox Film Corporation</th>\n",
              "      <th>Amercent Films</th>\n",
              "      <th>American Entertainment Partners L.P.</th>\n",
              "      <th>Interscope Communications</th>\n",
              "      <th>DreamWorks SKG</th>\n",
              "      <th>Jinks/Cohen Company</th>\n",
              "      <th>Double Feature Films</th>\n",
              "      <th>Jersey Films</th>\n",
              "      <th>Nina Saxon Film Design</th>\n",
              "      <th>Cruise/Wagner Productions</th>\n",
              "      <th>Amblin Entertainment</th>\n",
              "      <th>Blue Tulip Productions</th>\n",
              "      <th>Ronald Shusett/Gary Goldman</th>\n",
              "      <th>Digital Image Associates</th>\n",
              "      <th>Hypnopolis</th>\n",
              "      <th>Craven-Maddalena Films</th>\n",
              "      <th>BenderSpink</th>\n",
              "      <th>BBC Films</th>\n",
              "      <th>4</th>\n",
              "      <th>5</th>\n",
              "      <th>6</th>\n",
              "      <th>7</th>\n",
              "      <th>...</th>\n",
              "      <th>2067</th>\n",
              "      <th>2068</th>\n",
              "      <th>day1</th>\n",
              "      <th>day10</th>\n",
              "      <th>day11</th>\n",
              "      <th>day12</th>\n",
              "      <th>day13</th>\n",
              "      <th>day14</th>\n",
              "      <th>day15</th>\n",
              "      <th>day16</th>\n",
              "      <th>day17</th>\n",
              "      <th>day18</th>\n",
              "      <th>day19</th>\n",
              "      <th>day2</th>\n",
              "      <th>day20</th>\n",
              "      <th>day21</th>\n",
              "      <th>day22</th>\n",
              "      <th>day23</th>\n",
              "      <th>day24</th>\n",
              "      <th>day25</th>\n",
              "      <th>day26</th>\n",
              "      <th>day27</th>\n",
              "      <th>day28</th>\n",
              "      <th>day29</th>\n",
              "      <th>day3</th>\n",
              "      <th>day30</th>\n",
              "      <th>day31</th>\n",
              "      <th>day4</th>\n",
              "      <th>day5</th>\n",
              "      <th>day6</th>\n",
              "      <th>day7</th>\n",
              "      <th>day8</th>\n",
              "      <th>day9</th>\n",
              "      <th>week_day0</th>\n",
              "      <th>week_day1</th>\n",
              "      <th>week_day2</th>\n",
              "      <th>week_day3</th>\n",
              "      <th>week_day4</th>\n",
              "      <th>week_day5</th>\n",
              "      <th>week_day6</th>\n",
              "    </tr>\n",
              "  </thead>\n",
              "  <tbody>\n",
              "    <tr>\n",
              "      <th>0</th>\n",
              "      <td>1</td>\n",
              "      <td>1</td>\n",
              "      <td>16.455</td>\n",
              "      <td>2.025</td>\n",
              "      <td>4.543</td>\n",
              "      <td>0</td>\n",
              "      <td>1</td>\n",
              "      <td>1</td>\n",
              "      <td>1</td>\n",
              "      <td>0</td>\n",
              "      <td>0</td>\n",
              "      <td>0</td>\n",
              "      <td>0</td>\n",
              "      <td>0</td>\n",
              "      <td>0</td>\n",
              "      <td>0</td>\n",
              "      <td>0</td>\n",
              "      <td>0</td>\n",
              "      <td>0</td>\n",
              "      <td>0</td>\n",
              "      <td>0</td>\n",
              "      <td>0</td>\n",
              "      <td>0</td>\n",
              "      <td>0</td>\n",
              "      <td>0</td>\n",
              "      <td>0</td>\n",
              "      <td>0</td>\n",
              "      <td>0</td>\n",
              "      <td>0</td>\n",
              "      <td>0</td>\n",
              "      <td>0</td>\n",
              "      <td>0</td>\n",
              "      <td>0</td>\n",
              "      <td>0</td>\n",
              "      <td>0</td>\n",
              "      <td>0</td>\n",
              "      <td>1</td>\n",
              "      <td>1</td>\n",
              "      <td>1</td>\n",
              "      <td>1</td>\n",
              "      <td>...</td>\n",
              "      <td>0</td>\n",
              "      <td>0</td>\n",
              "      <td>0</td>\n",
              "      <td>0</td>\n",
              "      <td>0</td>\n",
              "      <td>0</td>\n",
              "      <td>0</td>\n",
              "      <td>0</td>\n",
              "      <td>0</td>\n",
              "      <td>0</td>\n",
              "      <td>0</td>\n",
              "      <td>0</td>\n",
              "      <td>0</td>\n",
              "      <td>0</td>\n",
              "      <td>1</td>\n",
              "      <td>0</td>\n",
              "      <td>0</td>\n",
              "      <td>0</td>\n",
              "      <td>0</td>\n",
              "      <td>0</td>\n",
              "      <td>0</td>\n",
              "      <td>0</td>\n",
              "      <td>0</td>\n",
              "      <td>0</td>\n",
              "      <td>0</td>\n",
              "      <td>0</td>\n",
              "      <td>0</td>\n",
              "      <td>0</td>\n",
              "      <td>0</td>\n",
              "      <td>0</td>\n",
              "      <td>0</td>\n",
              "      <td>0</td>\n",
              "      <td>0</td>\n",
              "      <td>0</td>\n",
              "      <td>0</td>\n",
              "      <td>0</td>\n",
              "      <td>0</td>\n",
              "      <td>1</td>\n",
              "      <td>0</td>\n",
              "      <td>0</td>\n",
              "    </tr>\n",
              "    <tr>\n",
              "      <th>1</th>\n",
              "      <td>2</td>\n",
              "      <td>1</td>\n",
              "      <td>17.504</td>\n",
              "      <td>2.225</td>\n",
              "      <td>4.736</td>\n",
              "      <td>0</td>\n",
              "      <td>0</td>\n",
              "      <td>0</td>\n",
              "      <td>0</td>\n",
              "      <td>1</td>\n",
              "      <td>0</td>\n",
              "      <td>0</td>\n",
              "      <td>0</td>\n",
              "      <td>0</td>\n",
              "      <td>0</td>\n",
              "      <td>0</td>\n",
              "      <td>0</td>\n",
              "      <td>0</td>\n",
              "      <td>0</td>\n",
              "      <td>0</td>\n",
              "      <td>0</td>\n",
              "      <td>0</td>\n",
              "      <td>0</td>\n",
              "      <td>0</td>\n",
              "      <td>0</td>\n",
              "      <td>0</td>\n",
              "      <td>0</td>\n",
              "      <td>0</td>\n",
              "      <td>0</td>\n",
              "      <td>0</td>\n",
              "      <td>0</td>\n",
              "      <td>0</td>\n",
              "      <td>0</td>\n",
              "      <td>0</td>\n",
              "      <td>0</td>\n",
              "      <td>0</td>\n",
              "      <td>1</td>\n",
              "      <td>1</td>\n",
              "      <td>1</td>\n",
              "      <td>1</td>\n",
              "      <td>...</td>\n",
              "      <td>0</td>\n",
              "      <td>0</td>\n",
              "      <td>0</td>\n",
              "      <td>0</td>\n",
              "      <td>0</td>\n",
              "      <td>0</td>\n",
              "      <td>0</td>\n",
              "      <td>0</td>\n",
              "      <td>0</td>\n",
              "      <td>0</td>\n",
              "      <td>0</td>\n",
              "      <td>0</td>\n",
              "      <td>0</td>\n",
              "      <td>0</td>\n",
              "      <td>0</td>\n",
              "      <td>0</td>\n",
              "      <td>0</td>\n",
              "      <td>0</td>\n",
              "      <td>0</td>\n",
              "      <td>0</td>\n",
              "      <td>0</td>\n",
              "      <td>0</td>\n",
              "      <td>0</td>\n",
              "      <td>0</td>\n",
              "      <td>0</td>\n",
              "      <td>0</td>\n",
              "      <td>0</td>\n",
              "      <td>0</td>\n",
              "      <td>0</td>\n",
              "      <td>1</td>\n",
              "      <td>0</td>\n",
              "      <td>0</td>\n",
              "      <td>0</td>\n",
              "      <td>0</td>\n",
              "      <td>0</td>\n",
              "      <td>0</td>\n",
              "      <td>0</td>\n",
              "      <td>1</td>\n",
              "      <td>0</td>\n",
              "      <td>0</td>\n",
              "    </tr>\n",
              "    <tr>\n",
              "      <th>2</th>\n",
              "      <td>3</td>\n",
              "      <td>0</td>\n",
              "      <td>15.009</td>\n",
              "      <td>4.179</td>\n",
              "      <td>4.663</td>\n",
              "      <td>0</td>\n",
              "      <td>0</td>\n",
              "      <td>0</td>\n",
              "      <td>0</td>\n",
              "      <td>0</td>\n",
              "      <td>1</td>\n",
              "      <td>1</td>\n",
              "      <td>1</td>\n",
              "      <td>0</td>\n",
              "      <td>0</td>\n",
              "      <td>0</td>\n",
              "      <td>0</td>\n",
              "      <td>0</td>\n",
              "      <td>0</td>\n",
              "      <td>0</td>\n",
              "      <td>0</td>\n",
              "      <td>0</td>\n",
              "      <td>0</td>\n",
              "      <td>0</td>\n",
              "      <td>0</td>\n",
              "      <td>0</td>\n",
              "      <td>0</td>\n",
              "      <td>0</td>\n",
              "      <td>0</td>\n",
              "      <td>0</td>\n",
              "      <td>0</td>\n",
              "      <td>0</td>\n",
              "      <td>0</td>\n",
              "      <td>0</td>\n",
              "      <td>0</td>\n",
              "      <td>0</td>\n",
              "      <td>0</td>\n",
              "      <td>1</td>\n",
              "      <td>1</td>\n",
              "      <td>0</td>\n",
              "      <td>...</td>\n",
              "      <td>0</td>\n",
              "      <td>0</td>\n",
              "      <td>0</td>\n",
              "      <td>1</td>\n",
              "      <td>0</td>\n",
              "      <td>0</td>\n",
              "      <td>0</td>\n",
              "      <td>0</td>\n",
              "      <td>0</td>\n",
              "      <td>0</td>\n",
              "      <td>0</td>\n",
              "      <td>0</td>\n",
              "      <td>0</td>\n",
              "      <td>0</td>\n",
              "      <td>0</td>\n",
              "      <td>0</td>\n",
              "      <td>0</td>\n",
              "      <td>0</td>\n",
              "      <td>0</td>\n",
              "      <td>0</td>\n",
              "      <td>0</td>\n",
              "      <td>0</td>\n",
              "      <td>0</td>\n",
              "      <td>0</td>\n",
              "      <td>0</td>\n",
              "      <td>0</td>\n",
              "      <td>0</td>\n",
              "      <td>0</td>\n",
              "      <td>0</td>\n",
              "      <td>0</td>\n",
              "      <td>0</td>\n",
              "      <td>0</td>\n",
              "      <td>0</td>\n",
              "      <td>0</td>\n",
              "      <td>0</td>\n",
              "      <td>0</td>\n",
              "      <td>0</td>\n",
              "      <td>1</td>\n",
              "      <td>0</td>\n",
              "      <td>0</td>\n",
              "    </tr>\n",
              "    <tr>\n",
              "      <th>3</th>\n",
              "      <td>4</td>\n",
              "      <td>0</td>\n",
              "      <td>13.998</td>\n",
              "      <td>1.429</td>\n",
              "      <td>4.812</td>\n",
              "      <td>0</td>\n",
              "      <td>0</td>\n",
              "      <td>0</td>\n",
              "      <td>0</td>\n",
              "      <td>0</td>\n",
              "      <td>0</td>\n",
              "      <td>0</td>\n",
              "      <td>0</td>\n",
              "      <td>0</td>\n",
              "      <td>0</td>\n",
              "      <td>0</td>\n",
              "      <td>0</td>\n",
              "      <td>0</td>\n",
              "      <td>0</td>\n",
              "      <td>0</td>\n",
              "      <td>0</td>\n",
              "      <td>0</td>\n",
              "      <td>0</td>\n",
              "      <td>0</td>\n",
              "      <td>0</td>\n",
              "      <td>0</td>\n",
              "      <td>0</td>\n",
              "      <td>0</td>\n",
              "      <td>0</td>\n",
              "      <td>0</td>\n",
              "      <td>0</td>\n",
              "      <td>0</td>\n",
              "      <td>0</td>\n",
              "      <td>0</td>\n",
              "      <td>0</td>\n",
              "      <td>0</td>\n",
              "      <td>0</td>\n",
              "      <td>1</td>\n",
              "      <td>1</td>\n",
              "      <td>1</td>\n",
              "      <td>...</td>\n",
              "      <td>0</td>\n",
              "      <td>0</td>\n",
              "      <td>0</td>\n",
              "      <td>0</td>\n",
              "      <td>0</td>\n",
              "      <td>0</td>\n",
              "      <td>0</td>\n",
              "      <td>0</td>\n",
              "      <td>0</td>\n",
              "      <td>0</td>\n",
              "      <td>0</td>\n",
              "      <td>0</td>\n",
              "      <td>0</td>\n",
              "      <td>0</td>\n",
              "      <td>0</td>\n",
              "      <td>0</td>\n",
              "      <td>0</td>\n",
              "      <td>0</td>\n",
              "      <td>0</td>\n",
              "      <td>0</td>\n",
              "      <td>0</td>\n",
              "      <td>0</td>\n",
              "      <td>0</td>\n",
              "      <td>0</td>\n",
              "      <td>0</td>\n",
              "      <td>0</td>\n",
              "      <td>0</td>\n",
              "      <td>0</td>\n",
              "      <td>0</td>\n",
              "      <td>0</td>\n",
              "      <td>0</td>\n",
              "      <td>0</td>\n",
              "      <td>1</td>\n",
              "      <td>0</td>\n",
              "      <td>0</td>\n",
              "      <td>0</td>\n",
              "      <td>0</td>\n",
              "      <td>1</td>\n",
              "      <td>0</td>\n",
              "      <td>0</td>\n",
              "    </tr>\n",
              "    <tr>\n",
              "      <th>5</th>\n",
              "      <td>6</td>\n",
              "      <td>0</td>\n",
              "      <td>15.895</td>\n",
              "      <td>0.556</td>\n",
              "      <td>4.431</td>\n",
              "      <td>0</td>\n",
              "      <td>0</td>\n",
              "      <td>0</td>\n",
              "      <td>0</td>\n",
              "      <td>0</td>\n",
              "      <td>0</td>\n",
              "      <td>0</td>\n",
              "      <td>0</td>\n",
              "      <td>0</td>\n",
              "      <td>0</td>\n",
              "      <td>0</td>\n",
              "      <td>0</td>\n",
              "      <td>0</td>\n",
              "      <td>0</td>\n",
              "      <td>0</td>\n",
              "      <td>0</td>\n",
              "      <td>0</td>\n",
              "      <td>0</td>\n",
              "      <td>0</td>\n",
              "      <td>0</td>\n",
              "      <td>0</td>\n",
              "      <td>0</td>\n",
              "      <td>0</td>\n",
              "      <td>0</td>\n",
              "      <td>0</td>\n",
              "      <td>0</td>\n",
              "      <td>0</td>\n",
              "      <td>0</td>\n",
              "      <td>0</td>\n",
              "      <td>0</td>\n",
              "      <td>0</td>\n",
              "      <td>0</td>\n",
              "      <td>0</td>\n",
              "      <td>1</td>\n",
              "      <td>1</td>\n",
              "      <td>...</td>\n",
              "      <td>0</td>\n",
              "      <td>0</td>\n",
              "      <td>0</td>\n",
              "      <td>0</td>\n",
              "      <td>0</td>\n",
              "      <td>0</td>\n",
              "      <td>0</td>\n",
              "      <td>0</td>\n",
              "      <td>0</td>\n",
              "      <td>0</td>\n",
              "      <td>0</td>\n",
              "      <td>0</td>\n",
              "      <td>0</td>\n",
              "      <td>0</td>\n",
              "      <td>0</td>\n",
              "      <td>0</td>\n",
              "      <td>0</td>\n",
              "      <td>0</td>\n",
              "      <td>0</td>\n",
              "      <td>0</td>\n",
              "      <td>0</td>\n",
              "      <td>0</td>\n",
              "      <td>0</td>\n",
              "      <td>0</td>\n",
              "      <td>0</td>\n",
              "      <td>0</td>\n",
              "      <td>0</td>\n",
              "      <td>0</td>\n",
              "      <td>0</td>\n",
              "      <td>1</td>\n",
              "      <td>0</td>\n",
              "      <td>0</td>\n",
              "      <td>0</td>\n",
              "      <td>0</td>\n",
              "      <td>0</td>\n",
              "      <td>0</td>\n",
              "      <td>1</td>\n",
              "      <td>0</td>\n",
              "      <td>0</td>\n",
              "      <td>0</td>\n",
              "    </tr>\n",
              "  </tbody>\n",
              "</table>\n",
              "<p>5 rows × 406 columns</p>\n",
              "</div>"
            ],
            "text/plain": [
              "   id  belongs_to_collection  budget  ...  week_day4  week_day5  week_day6\n",
              "0   1                      1  16.455  ...          1          0          0\n",
              "1   2                      1  17.504  ...          1          0          0\n",
              "2   3                      0  15.009  ...          1          0          0\n",
              "3   4                      0  13.998  ...          1          0          0\n",
              "5   6                      0  15.895  ...          0          0          0\n",
              "\n",
              "[5 rows x 406 columns]"
            ]
          },
          "metadata": {
            "tags": []
          },
          "execution_count": 45
        }
      ]
    },
    {
      "cell_type": "code",
      "metadata": {
        "id": "gNUuiQamdfKa",
        "colab_type": "code",
        "outputId": "9d2fda5a-08c6-4660-c2e5-099741bec0c6",
        "colab": {
          "base_uri": "https://localhost:8080/",
          "height": 34
        }
      },
      "source": [
        "from keras.callbacks import ModelCheckpoint\n",
        "from keras.models import Sequential\n",
        "from keras.layers import Dense, Activation, Flatten\n",
        "from sklearn.model_selection import train_test_split\n",
        "from sklearn.ensemble import RandomForestRegressor\n",
        "from sklearn.metrics import mean_absolute_error \n",
        "from matplotlib import pyplot as plt\n",
        "import seaborn as sb\n",
        "import matplotlib.pyplot as plt\n",
        "import pandas as pd\n",
        "import numpy as np\n",
        "import warnings \n",
        "warnings.filterwarnings('ignore')\n",
        "warnings.filterwarnings('ignore', category=DeprecationWarning)\n",
        "from xgboost import XGBRegressor"
      ],
      "execution_count": 0,
      "outputs": [
        {
          "output_type": "stream",
          "text": [
            "Using TensorFlow backend.\n"
          ],
          "name": "stderr"
        }
      ]
    },
    {
      "cell_type": "code",
      "metadata": {
        "id": "sGHoUa8-dygC",
        "colab_type": "code",
        "outputId": "373cc75a-77b1-4b98-cf9d-ff055dbf315a",
        "colab": {
          "base_uri": "https://localhost:8080/",
          "height": 474
        }
      },
      "source": [
        "NN_model = Sequential()\n",
        "\n",
        "# The Input Layer :\n",
        "NN_model.add(Dense(406, kernel_initializer='normal',input_dim = X.shape[1], activation='relu'))\n",
        "\n",
        "# The Hidden Layers :\n",
        "NN_model.add(Dense(256, kernel_initializer='normal',activation='relu'))\n",
        "NN_model.add(Dense(256, kernel_initializer='normal',activation='relu'))\n",
        "NN_model.add(Dense(256, kernel_initializer='normal',activation='relu'))\n",
        "\n",
        "# The Output Layer :\n",
        "NN_model.add(Dense(1, kernel_initializer='normal',activation='linear'))\n",
        "\n",
        "# Compile the network :\n",
        "NN_model.compile(loss='mean_absolute_error', optimizer='adam', metrics=['mean_absolute_error'])\n",
        "NN_model.summary()"
      ],
      "execution_count": 0,
      "outputs": [
        {
          "output_type": "stream",
          "text": [
            "WARNING: Logging before flag parsing goes to stderr.\n",
            "W0809 07:23:59.889520 139889839216512 deprecation_wrapper.py:119] From /usr/local/lib/python3.6/dist-packages/keras/backend/tensorflow_backend.py:74: The name tf.get_default_graph is deprecated. Please use tf.compat.v1.get_default_graph instead.\n",
            "\n",
            "W0809 07:23:59.933638 139889839216512 deprecation_wrapper.py:119] From /usr/local/lib/python3.6/dist-packages/keras/backend/tensorflow_backend.py:517: The name tf.placeholder is deprecated. Please use tf.compat.v1.placeholder instead.\n",
            "\n",
            "W0809 07:23:59.941443 139889839216512 deprecation_wrapper.py:119] From /usr/local/lib/python3.6/dist-packages/keras/backend/tensorflow_backend.py:4115: The name tf.random_normal is deprecated. Please use tf.random.normal instead.\n",
            "\n",
            "W0809 07:24:00.016614 139889839216512 deprecation_wrapper.py:119] From /usr/local/lib/python3.6/dist-packages/keras/optimizers.py:790: The name tf.train.Optimizer is deprecated. Please use tf.compat.v1.train.Optimizer instead.\n",
            "\n"
          ],
          "name": "stderr"
        },
        {
          "output_type": "stream",
          "text": [
            "_________________________________________________________________\n",
            "Layer (type)                 Output Shape              Param #   \n",
            "=================================================================\n",
            "dense_1 (Dense)              (None, 406)               165242    \n",
            "_________________________________________________________________\n",
            "dense_2 (Dense)              (None, 256)               104192    \n",
            "_________________________________________________________________\n",
            "dense_3 (Dense)              (None, 256)               65792     \n",
            "_________________________________________________________________\n",
            "dense_4 (Dense)              (None, 256)               65792     \n",
            "_________________________________________________________________\n",
            "dense_5 (Dense)              (None, 1)                 257       \n",
            "=================================================================\n",
            "Total params: 401,275\n",
            "Trainable params: 401,275\n",
            "Non-trainable params: 0\n",
            "_________________________________________________________________\n"
          ],
          "name": "stdout"
        }
      ]
    },
    {
      "cell_type": "code",
      "metadata": {
        "id": "iVwjBakzeAgU",
        "colab_type": "code",
        "outputId": "a5db8e11-00ac-461f-a321-fe1ef1cfcc54",
        "colab": {
          "base_uri": "https://localhost:8080/",
          "height": 1000
        }
      },
      "source": [
        "NN_model.fit(X, y, epochs=100, batch_size=32, validation_split = 0.2)\n"
      ],
      "execution_count": 0,
      "outputs": [
        {
          "output_type": "stream",
          "text": [
            "W0809 07:24:00.237253 139889839216512 deprecation_wrapper.py:119] From /usr/local/lib/python3.6/dist-packages/keras/backend/tensorflow_backend.py:986: The name tf.assign_add is deprecated. Please use tf.compat.v1.assign_add instead.\n",
            "\n",
            "W0809 07:24:00.405346 139889839216512 deprecation_wrapper.py:119] From /usr/local/lib/python3.6/dist-packages/keras/backend/tensorflow_backend.py:973: The name tf.assign is deprecated. Please use tf.compat.v1.assign instead.\n",
            "\n"
          ],
          "name": "stderr"
        },
        {
          "output_type": "stream",
          "text": [
            "Train on 1750 samples, validate on 438 samples\n",
            "Epoch 1/100\n",
            "1750/1750 [==============================] - 4s 2ms/step - loss: 7.8511 - mean_absolute_error: 7.8511 - val_loss: 8.3362 - val_mean_absolute_error: 8.3362\n",
            "Epoch 2/100\n",
            "1750/1750 [==============================] - 0s 189us/step - loss: 3.6843 - mean_absolute_error: 3.6843 - val_loss: 6.5886 - val_mean_absolute_error: 6.5886\n",
            "Epoch 3/100\n",
            "1750/1750 [==============================] - 0s 207us/step - loss: 2.6515 - mean_absolute_error: 2.6515 - val_loss: 1.6105 - val_mean_absolute_error: 1.6105\n",
            "Epoch 4/100\n",
            "1750/1750 [==============================] - 0s 193us/step - loss: 1.7692 - mean_absolute_error: 1.7692 - val_loss: 2.2782 - val_mean_absolute_error: 2.2782\n",
            "Epoch 5/100\n",
            "1750/1750 [==============================] - 0s 191us/step - loss: 1.7653 - mean_absolute_error: 1.7653 - val_loss: 6.5250 - val_mean_absolute_error: 6.5250\n",
            "Epoch 6/100\n",
            "1750/1750 [==============================] - 0s 202us/step - loss: 1.7162 - mean_absolute_error: 1.7162 - val_loss: 5.2853 - val_mean_absolute_error: 5.2853\n",
            "Epoch 7/100\n",
            "1750/1750 [==============================] - 0s 203us/step - loss: 1.6718 - mean_absolute_error: 1.6718 - val_loss: 3.5168 - val_mean_absolute_error: 3.5168\n",
            "Epoch 8/100\n",
            "1750/1750 [==============================] - 0s 191us/step - loss: 2.0256 - mean_absolute_error: 2.0256 - val_loss: 8.6456 - val_mean_absolute_error: 8.6456\n",
            "Epoch 9/100\n",
            "1750/1750 [==============================] - 0s 196us/step - loss: 1.6958 - mean_absolute_error: 1.6958 - val_loss: 2.8475 - val_mean_absolute_error: 2.8475\n",
            "Epoch 10/100\n",
            "1750/1750 [==============================] - 0s 188us/step - loss: 1.4628 - mean_absolute_error: 1.4628 - val_loss: 3.2889 - val_mean_absolute_error: 3.2889\n",
            "Epoch 11/100\n",
            "1750/1750 [==============================] - 0s 194us/step - loss: 1.7473 - mean_absolute_error: 1.7473 - val_loss: 2.0453 - val_mean_absolute_error: 2.0453\n",
            "Epoch 12/100\n",
            "1750/1750 [==============================] - 0s 198us/step - loss: 1.5662 - mean_absolute_error: 1.5662 - val_loss: 1.1938 - val_mean_absolute_error: 1.1938\n",
            "Epoch 13/100\n",
            "1750/1750 [==============================] - 0s 190us/step - loss: 1.3790 - mean_absolute_error: 1.3790 - val_loss: 1.9451 - val_mean_absolute_error: 1.9451\n",
            "Epoch 14/100\n",
            "1750/1750 [==============================] - 0s 190us/step - loss: 1.3753 - mean_absolute_error: 1.3753 - val_loss: 1.4097 - val_mean_absolute_error: 1.4097\n",
            "Epoch 15/100\n",
            "1750/1750 [==============================] - 0s 204us/step - loss: 1.4014 - mean_absolute_error: 1.4014 - val_loss: 1.1466 - val_mean_absolute_error: 1.1466\n",
            "Epoch 16/100\n",
            "1750/1750 [==============================] - 0s 192us/step - loss: 1.3091 - mean_absolute_error: 1.3091 - val_loss: 1.1683 - val_mean_absolute_error: 1.1683\n",
            "Epoch 17/100\n",
            "1750/1750 [==============================] - 0s 189us/step - loss: 1.2929 - mean_absolute_error: 1.2929 - val_loss: 1.4242 - val_mean_absolute_error: 1.4242\n",
            "Epoch 18/100\n",
            "1750/1750 [==============================] - 0s 193us/step - loss: 1.5620 - mean_absolute_error: 1.5620 - val_loss: 1.0618 - val_mean_absolute_error: 1.0618\n",
            "Epoch 19/100\n",
            "1750/1750 [==============================] - 0s 192us/step - loss: 1.2949 - mean_absolute_error: 1.2949 - val_loss: 2.2446 - val_mean_absolute_error: 2.2446\n",
            "Epoch 20/100\n",
            "1750/1750 [==============================] - 0s 188us/step - loss: 1.2197 - mean_absolute_error: 1.2197 - val_loss: 1.5237 - val_mean_absolute_error: 1.5237\n",
            "Epoch 21/100\n",
            "1750/1750 [==============================] - 0s 195us/step - loss: 1.1602 - mean_absolute_error: 1.1602 - val_loss: 1.5403 - val_mean_absolute_error: 1.5403\n",
            "Epoch 22/100\n",
            "1750/1750 [==============================] - 0s 196us/step - loss: 1.2575 - mean_absolute_error: 1.2575 - val_loss: 1.1163 - val_mean_absolute_error: 1.1163\n",
            "Epoch 23/100\n",
            "1750/1750 [==============================] - 0s 195us/step - loss: 1.3445 - mean_absolute_error: 1.3445 - val_loss: 1.0910 - val_mean_absolute_error: 1.0910\n",
            "Epoch 24/100\n",
            "1750/1750 [==============================] - 0s 199us/step - loss: 1.4694 - mean_absolute_error: 1.4694 - val_loss: 1.1479 - val_mean_absolute_error: 1.1479\n",
            "Epoch 25/100\n",
            "1750/1750 [==============================] - 0s 190us/step - loss: 1.2997 - mean_absolute_error: 1.2997 - val_loss: 1.7714 - val_mean_absolute_error: 1.7714\n",
            "Epoch 26/100\n",
            "1750/1750 [==============================] - 0s 194us/step - loss: 1.3059 - mean_absolute_error: 1.3059 - val_loss: 1.4733 - val_mean_absolute_error: 1.4733\n",
            "Epoch 27/100\n",
            "1750/1750 [==============================] - 0s 200us/step - loss: 1.2143 - mean_absolute_error: 1.2143 - val_loss: 1.6217 - val_mean_absolute_error: 1.6217\n",
            "Epoch 28/100\n",
            "1750/1750 [==============================] - 0s 192us/step - loss: 1.1576 - mean_absolute_error: 1.1576 - val_loss: 2.0011 - val_mean_absolute_error: 2.0011\n",
            "Epoch 29/100\n",
            "1750/1750 [==============================] - 0s 190us/step - loss: 1.2859 - mean_absolute_error: 1.2859 - val_loss: 3.6287 - val_mean_absolute_error: 3.6287\n",
            "Epoch 30/100\n",
            "1750/1750 [==============================] - 0s 192us/step - loss: 1.3494 - mean_absolute_error: 1.3494 - val_loss: 1.5187 - val_mean_absolute_error: 1.5187\n",
            "Epoch 31/100\n",
            "1750/1750 [==============================] - 0s 191us/step - loss: 1.3309 - mean_absolute_error: 1.3309 - val_loss: 3.3993 - val_mean_absolute_error: 3.3993\n",
            "Epoch 32/100\n",
            "1750/1750 [==============================] - 0s 196us/step - loss: 1.2217 - mean_absolute_error: 1.2217 - val_loss: 1.0676 - val_mean_absolute_error: 1.0676\n",
            "Epoch 33/100\n",
            "1750/1750 [==============================] - 0s 211us/step - loss: 1.3814 - mean_absolute_error: 1.3814 - val_loss: 3.8774 - val_mean_absolute_error: 3.8774\n",
            "Epoch 34/100\n",
            "1750/1750 [==============================] - 0s 198us/step - loss: 1.3384 - mean_absolute_error: 1.3384 - val_loss: 1.0392 - val_mean_absolute_error: 1.0392\n",
            "Epoch 35/100\n",
            "1750/1750 [==============================] - 0s 189us/step - loss: 1.3451 - mean_absolute_error: 1.3451 - val_loss: 1.1914 - val_mean_absolute_error: 1.1914\n",
            "Epoch 36/100\n",
            "1750/1750 [==============================] - 0s 199us/step - loss: 1.1714 - mean_absolute_error: 1.1714 - val_loss: 1.1215 - val_mean_absolute_error: 1.1215\n",
            "Epoch 37/100\n",
            "1750/1750 [==============================] - 0s 190us/step - loss: 1.1524 - mean_absolute_error: 1.1524 - val_loss: 2.6148 - val_mean_absolute_error: 2.6148\n",
            "Epoch 38/100\n",
            "1750/1750 [==============================] - 0s 188us/step - loss: 1.2141 - mean_absolute_error: 1.2141 - val_loss: 1.5095 - val_mean_absolute_error: 1.5095\n",
            "Epoch 39/100\n",
            "1750/1750 [==============================] - 0s 201us/step - loss: 1.1880 - mean_absolute_error: 1.1880 - val_loss: 1.5968 - val_mean_absolute_error: 1.5968\n",
            "Epoch 40/100\n",
            "1750/1750 [==============================] - 0s 193us/step - loss: 1.1705 - mean_absolute_error: 1.1705 - val_loss: 3.7780 - val_mean_absolute_error: 3.7780\n",
            "Epoch 41/100\n",
            "1750/1750 [==============================] - 0s 190us/step - loss: 1.6566 - mean_absolute_error: 1.6566 - val_loss: 2.4200 - val_mean_absolute_error: 2.4200\n",
            "Epoch 42/100\n",
            "1750/1750 [==============================] - 0s 204us/step - loss: 1.2167 - mean_absolute_error: 1.2167 - val_loss: 2.2626 - val_mean_absolute_error: 2.2626\n",
            "Epoch 43/100\n",
            "1750/1750 [==============================] - 0s 199us/step - loss: 1.1554 - mean_absolute_error: 1.1554 - val_loss: 1.9274 - val_mean_absolute_error: 1.9274\n",
            "Epoch 44/100\n",
            "1750/1750 [==============================] - 0s 189us/step - loss: 1.1963 - mean_absolute_error: 1.1963 - val_loss: 2.6877 - val_mean_absolute_error: 2.6877\n",
            "Epoch 45/100\n",
            "1750/1750 [==============================] - 0s 200us/step - loss: 1.1976 - mean_absolute_error: 1.1976 - val_loss: 1.1354 - val_mean_absolute_error: 1.1354\n",
            "Epoch 46/100\n",
            "1750/1750 [==============================] - 0s 202us/step - loss: 1.4018 - mean_absolute_error: 1.4018 - val_loss: 2.9884 - val_mean_absolute_error: 2.9884\n",
            "Epoch 47/100\n",
            "1750/1750 [==============================] - 0s 193us/step - loss: 1.1798 - mean_absolute_error: 1.1798 - val_loss: 1.2758 - val_mean_absolute_error: 1.2758\n",
            "Epoch 48/100\n",
            "1750/1750 [==============================] - 0s 194us/step - loss: 1.1178 - mean_absolute_error: 1.1178 - val_loss: 2.1364 - val_mean_absolute_error: 2.1364\n",
            "Epoch 49/100\n",
            "1750/1750 [==============================] - 0s 190us/step - loss: 1.1257 - mean_absolute_error: 1.1257 - val_loss: 1.4063 - val_mean_absolute_error: 1.4063\n",
            "Epoch 50/100\n",
            "1750/1750 [==============================] - 0s 191us/step - loss: 1.0731 - mean_absolute_error: 1.0731 - val_loss: 2.2805 - val_mean_absolute_error: 2.2805\n",
            "Epoch 51/100\n",
            "1750/1750 [==============================] - 0s 203us/step - loss: 1.1713 - mean_absolute_error: 1.1713 - val_loss: 1.4249 - val_mean_absolute_error: 1.4249\n",
            "Epoch 52/100\n",
            "1750/1750 [==============================] - 0s 193us/step - loss: 1.1816 - mean_absolute_error: 1.1816 - val_loss: 1.7224 - val_mean_absolute_error: 1.7224\n",
            "Epoch 53/100\n",
            "1750/1750 [==============================] - 0s 191us/step - loss: 1.1806 - mean_absolute_error: 1.1806 - val_loss: 1.1650 - val_mean_absolute_error: 1.1650\n",
            "Epoch 54/100\n",
            "1750/1750 [==============================] - 0s 195us/step - loss: 1.0788 - mean_absolute_error: 1.0788 - val_loss: 1.7372 - val_mean_absolute_error: 1.7372\n",
            "Epoch 55/100\n",
            "1750/1750 [==============================] - 0s 193us/step - loss: 1.1335 - mean_absolute_error: 1.1335 - val_loss: 2.5651 - val_mean_absolute_error: 2.5651\n",
            "Epoch 56/100\n",
            "1750/1750 [==============================] - 0s 194us/step - loss: 1.1278 - mean_absolute_error: 1.1278 - val_loss: 1.5088 - val_mean_absolute_error: 1.5088\n",
            "Epoch 57/100\n",
            "1750/1750 [==============================] - 0s 198us/step - loss: 1.2022 - mean_absolute_error: 1.2022 - val_loss: 1.8174 - val_mean_absolute_error: 1.8174\n",
            "Epoch 58/100\n",
            "1750/1750 [==============================] - 0s 189us/step - loss: 1.1312 - mean_absolute_error: 1.1312 - val_loss: 1.5130 - val_mean_absolute_error: 1.5130\n",
            "Epoch 59/100\n",
            "1750/1750 [==============================] - 0s 194us/step - loss: 1.1644 - mean_absolute_error: 1.1644 - val_loss: 1.0729 - val_mean_absolute_error: 1.0729\n",
            "Epoch 60/100\n",
            "1750/1750 [==============================] - 0s 212us/step - loss: 1.1147 - mean_absolute_error: 1.1147 - val_loss: 1.7779 - val_mean_absolute_error: 1.7779\n",
            "Epoch 61/100\n",
            "1750/1750 [==============================] - 0s 194us/step - loss: 1.0916 - mean_absolute_error: 1.0916 - val_loss: 1.8558 - val_mean_absolute_error: 1.8558\n",
            "Epoch 62/100\n",
            "1750/1750 [==============================] - 0s 191us/step - loss: 1.1966 - mean_absolute_error: 1.1966 - val_loss: 1.6094 - val_mean_absolute_error: 1.6094\n",
            "Epoch 63/100\n",
            "1750/1750 [==============================] - 0s 197us/step - loss: 1.1143 - mean_absolute_error: 1.1143 - val_loss: 1.6719 - val_mean_absolute_error: 1.6719\n",
            "Epoch 64/100\n",
            "1750/1750 [==============================] - 0s 191us/step - loss: 1.1901 - mean_absolute_error: 1.1901 - val_loss: 1.1149 - val_mean_absolute_error: 1.1149\n",
            "Epoch 65/100\n",
            "1750/1750 [==============================] - 0s 188us/step - loss: 1.3200 - mean_absolute_error: 1.3200 - val_loss: 1.1555 - val_mean_absolute_error: 1.1555\n",
            "Epoch 66/100\n",
            "1750/1750 [==============================] - 0s 204us/step - loss: 1.1077 - mean_absolute_error: 1.1077 - val_loss: 1.2401 - val_mean_absolute_error: 1.2401\n",
            "Epoch 67/100\n",
            "1750/1750 [==============================] - 0s 200us/step - loss: 1.2384 - mean_absolute_error: 1.2384 - val_loss: 3.0660 - val_mean_absolute_error: 3.0660\n",
            "Epoch 68/100\n",
            "1750/1750 [==============================] - 0s 189us/step - loss: 1.3184 - mean_absolute_error: 1.3184 - val_loss: 1.8183 - val_mean_absolute_error: 1.8183\n",
            "Epoch 69/100\n",
            "1750/1750 [==============================] - 0s 199us/step - loss: 1.1703 - mean_absolute_error: 1.1703 - val_loss: 1.3377 - val_mean_absolute_error: 1.3377\n",
            "Epoch 70/100\n",
            "1750/1750 [==============================] - 0s 189us/step - loss: 1.2109 - mean_absolute_error: 1.2109 - val_loss: 1.0569 - val_mean_absolute_error: 1.0569\n",
            "Epoch 71/100\n",
            "1750/1750 [==============================] - 0s 192us/step - loss: 1.2295 - mean_absolute_error: 1.2295 - val_loss: 2.4190 - val_mean_absolute_error: 2.4190\n",
            "Epoch 72/100\n",
            "1750/1750 [==============================] - 0s 194us/step - loss: 1.2048 - mean_absolute_error: 1.2048 - val_loss: 1.2551 - val_mean_absolute_error: 1.2551\n",
            "Epoch 73/100\n",
            "1750/1750 [==============================] - 0s 192us/step - loss: 1.0987 - mean_absolute_error: 1.0987 - val_loss: 2.6305 - val_mean_absolute_error: 2.6305\n",
            "Epoch 74/100\n",
            "1750/1750 [==============================] - 0s 195us/step - loss: 1.1441 - mean_absolute_error: 1.1441 - val_loss: 1.1590 - val_mean_absolute_error: 1.1590\n",
            "Epoch 75/100\n",
            "1750/1750 [==============================] - 0s 192us/step - loss: 1.0781 - mean_absolute_error: 1.0781 - val_loss: 1.7575 - val_mean_absolute_error: 1.7575\n",
            "Epoch 76/100\n",
            "1750/1750 [==============================] - 0s 188us/step - loss: 1.0770 - mean_absolute_error: 1.0770 - val_loss: 1.2135 - val_mean_absolute_error: 1.2135\n",
            "Epoch 77/100\n",
            "1750/1750 [==============================] - 0s 202us/step - loss: 1.0947 - mean_absolute_error: 1.0947 - val_loss: 1.7114 - val_mean_absolute_error: 1.7114\n",
            "Epoch 78/100\n",
            "1750/1750 [==============================] - 0s 195us/step - loss: 1.1603 - mean_absolute_error: 1.1603 - val_loss: 1.5516 - val_mean_absolute_error: 1.5516\n",
            "Epoch 79/100\n",
            "1750/1750 [==============================] - 0s 193us/step - loss: 1.0449 - mean_absolute_error: 1.0449 - val_loss: 1.3766 - val_mean_absolute_error: 1.3766\n",
            "Epoch 80/100\n",
            "1750/1750 [==============================] - 0s 192us/step - loss: 1.1668 - mean_absolute_error: 1.1668 - val_loss: 2.1938 - val_mean_absolute_error: 2.1938\n",
            "Epoch 81/100\n",
            "1750/1750 [==============================] - 0s 200us/step - loss: 1.1707 - mean_absolute_error: 1.1707 - val_loss: 1.3226 - val_mean_absolute_error: 1.3226\n",
            "Epoch 82/100\n",
            "1750/1750 [==============================] - 0s 188us/step - loss: 1.0380 - mean_absolute_error: 1.0380 - val_loss: 1.3313 - val_mean_absolute_error: 1.3313\n",
            "Epoch 83/100\n",
            "1750/1750 [==============================] - 0s 187us/step - loss: 1.0699 - mean_absolute_error: 1.0699 - val_loss: 2.5927 - val_mean_absolute_error: 2.5927\n",
            "Epoch 84/100\n",
            "1750/1750 [==============================] - 0s 194us/step - loss: 1.1140 - mean_absolute_error: 1.1140 - val_loss: 1.1933 - val_mean_absolute_error: 1.1933\n",
            "Epoch 85/100\n",
            "1750/1750 [==============================] - 0s 192us/step - loss: 1.0710 - mean_absolute_error: 1.0710 - val_loss: 1.3147 - val_mean_absolute_error: 1.3147\n",
            "Epoch 86/100\n",
            "1750/1750 [==============================] - 0s 190us/step - loss: 1.0365 - mean_absolute_error: 1.0365 - val_loss: 1.1640 - val_mean_absolute_error: 1.1640\n",
            "Epoch 87/100\n",
            "1750/1750 [==============================] - 0s 198us/step - loss: 1.0793 - mean_absolute_error: 1.0793 - val_loss: 1.3916 - val_mean_absolute_error: 1.3916\n",
            "Epoch 88/100\n",
            "1750/1750 [==============================] - 0s 198us/step - loss: 1.1868 - mean_absolute_error: 1.1868 - val_loss: 1.3154 - val_mean_absolute_error: 1.3154\n",
            "Epoch 89/100\n",
            "1750/1750 [==============================] - 0s 188us/step - loss: 1.0556 - mean_absolute_error: 1.0556 - val_loss: 1.4166 - val_mean_absolute_error: 1.4166\n",
            "Epoch 90/100\n",
            "1750/1750 [==============================] - 0s 196us/step - loss: 1.0433 - mean_absolute_error: 1.0433 - val_loss: 1.4645 - val_mean_absolute_error: 1.4645\n",
            "Epoch 91/100\n",
            "1750/1750 [==============================] - 0s 192us/step - loss: 1.1185 - mean_absolute_error: 1.1185 - val_loss: 1.2454 - val_mean_absolute_error: 1.2454\n",
            "Epoch 92/100\n",
            "1750/1750 [==============================] - 0s 187us/step - loss: 1.0644 - mean_absolute_error: 1.0644 - val_loss: 1.5968 - val_mean_absolute_error: 1.5968\n",
            "Epoch 93/100\n",
            "1750/1750 [==============================] - 0s 198us/step - loss: 1.2871 - mean_absolute_error: 1.2871 - val_loss: 1.0585 - val_mean_absolute_error: 1.0585\n",
            "Epoch 94/100\n",
            "1750/1750 [==============================] - 0s 203us/step - loss: 1.1473 - mean_absolute_error: 1.1473 - val_loss: 1.3532 - val_mean_absolute_error: 1.3532\n",
            "Epoch 95/100\n",
            "1750/1750 [==============================] - 0s 199us/step - loss: 1.0529 - mean_absolute_error: 1.0529 - val_loss: 1.2028 - val_mean_absolute_error: 1.2028\n",
            "Epoch 96/100\n",
            "1750/1750 [==============================] - 0s 194us/step - loss: 1.0933 - mean_absolute_error: 1.0933 - val_loss: 1.1756 - val_mean_absolute_error: 1.1756\n",
            "Epoch 97/100\n",
            "1750/1750 [==============================] - 0s 191us/step - loss: 0.9949 - mean_absolute_error: 0.9949 - val_loss: 1.3313 - val_mean_absolute_error: 1.3313\n",
            "Epoch 98/100\n",
            "1750/1750 [==============================] - 0s 189us/step - loss: 1.0476 - mean_absolute_error: 1.0476 - val_loss: 1.2505 - val_mean_absolute_error: 1.2505\n",
            "Epoch 99/100\n",
            "1750/1750 [==============================] - 0s 203us/step - loss: 1.0863 - mean_absolute_error: 1.0863 - val_loss: 1.2099 - val_mean_absolute_error: 1.2099\n",
            "Epoch 100/100\n",
            "1750/1750 [==============================] - 0s 193us/step - loss: 1.1031 - mean_absolute_error: 1.1031 - val_loss: 1.2185 - val_mean_absolute_error: 1.2185\n"
          ],
          "name": "stdout"
        },
        {
          "output_type": "execute_result",
          "data": {
            "text/plain": [
              "<keras.callbacks.History at 0x7f3a73b62cc0>"
            ]
          },
          "metadata": {
            "tags": []
          },
          "execution_count": 48
        }
      ]
    },
    {
      "cell_type": "code",
      "metadata": {
        "id": "yVAEIE8ApczE",
        "colab_type": "code",
        "colab": {}
      },
      "source": [
        ""
      ],
      "execution_count": 0,
      "outputs": []
    },
    {
      "cell_type": "code",
      "metadata": {
        "id": "yFNOUGfUeMjR",
        "colab_type": "code",
        "colab": {}
      },
      "source": [
        "NN_model.compile(loss='mean_absolute_error', optimizer='adam', metrics=['mean_absolute_error'])"
      ],
      "execution_count": 0,
      "outputs": []
    },
    {
      "cell_type": "code",
      "metadata": {
        "id": "Y7fnPhWNoyQL",
        "colab_type": "code",
        "outputId": "c0a5d90b-6a12-409d-9c29-8ef98ccc0fa1",
        "colab": {
          "base_uri": "https://localhost:8080/",
          "height": 314
        }
      },
      "source": [
        "ans=NN_model.predict(Xtest)"
      ],
      "execution_count": 0,
      "outputs": [
        {
          "output_type": "error",
          "ename": "ValueError",
          "evalue": "ignored",
          "traceback": [
            "\u001b[0;31m---------------------------------------------------------------------------\u001b[0m",
            "\u001b[0;31mValueError\u001b[0m                                Traceback (most recent call last)",
            "\u001b[0;32m<ipython-input-158-362afdff9ea5>\u001b[0m in \u001b[0;36m<module>\u001b[0;34m()\u001b[0m\n\u001b[0;32m----> 1\u001b[0;31m \u001b[0mans\u001b[0m\u001b[0;34m=\u001b[0m\u001b[0mNN_model\u001b[0m\u001b[0;34m.\u001b[0m\u001b[0mpredict\u001b[0m\u001b[0;34m(\u001b[0m\u001b[0mXtest\u001b[0m\u001b[0;34m)\u001b[0m\u001b[0;34m\u001b[0m\u001b[0;34m\u001b[0m\u001b[0m\n\u001b[0m",
            "\u001b[0;32m/usr/local/lib/python3.6/dist-packages/keras/engine/training.py\u001b[0m in \u001b[0;36mpredict\u001b[0;34m(self, x, batch_size, verbose, steps)\u001b[0m\n\u001b[1;32m   1147\u001b[0m                              'argument.')\n\u001b[1;32m   1148\u001b[0m         \u001b[0;31m# Validate user data.\u001b[0m\u001b[0;34m\u001b[0m\u001b[0;34m\u001b[0m\u001b[0;34m\u001b[0m\u001b[0m\n\u001b[0;32m-> 1149\u001b[0;31m         \u001b[0mx\u001b[0m\u001b[0;34m,\u001b[0m \u001b[0m_\u001b[0m\u001b[0;34m,\u001b[0m \u001b[0m_\u001b[0m \u001b[0;34m=\u001b[0m \u001b[0mself\u001b[0m\u001b[0;34m.\u001b[0m\u001b[0m_standardize_user_data\u001b[0m\u001b[0;34m(\u001b[0m\u001b[0mx\u001b[0m\u001b[0;34m)\u001b[0m\u001b[0;34m\u001b[0m\u001b[0;34m\u001b[0m\u001b[0m\n\u001b[0m\u001b[1;32m   1150\u001b[0m         \u001b[0;32mif\u001b[0m \u001b[0mself\u001b[0m\u001b[0;34m.\u001b[0m\u001b[0mstateful\u001b[0m\u001b[0;34m:\u001b[0m\u001b[0;34m\u001b[0m\u001b[0;34m\u001b[0m\u001b[0m\n\u001b[1;32m   1151\u001b[0m             \u001b[0;32mif\u001b[0m \u001b[0mx\u001b[0m\u001b[0;34m[\u001b[0m\u001b[0;36m0\u001b[0m\u001b[0;34m]\u001b[0m\u001b[0;34m.\u001b[0m\u001b[0mshape\u001b[0m\u001b[0;34m[\u001b[0m\u001b[0;36m0\u001b[0m\u001b[0;34m]\u001b[0m \u001b[0;34m>\u001b[0m \u001b[0mbatch_size\u001b[0m \u001b[0;32mand\u001b[0m \u001b[0mx\u001b[0m\u001b[0;34m[\u001b[0m\u001b[0;36m0\u001b[0m\u001b[0;34m]\u001b[0m\u001b[0;34m.\u001b[0m\u001b[0mshape\u001b[0m\u001b[0;34m[\u001b[0m\u001b[0;36m0\u001b[0m\u001b[0;34m]\u001b[0m \u001b[0;34m%\u001b[0m \u001b[0mbatch_size\u001b[0m \u001b[0;34m!=\u001b[0m \u001b[0;36m0\u001b[0m\u001b[0;34m:\u001b[0m\u001b[0;34m\u001b[0m\u001b[0;34m\u001b[0m\u001b[0m\n",
            "\u001b[0;32m/usr/local/lib/python3.6/dist-packages/keras/engine/training.py\u001b[0m in \u001b[0;36m_standardize_user_data\u001b[0;34m(self, x, y, sample_weight, class_weight, check_array_lengths, batch_size)\u001b[0m\n\u001b[1;32m    749\u001b[0m             \u001b[0mfeed_input_shapes\u001b[0m\u001b[0;34m,\u001b[0m\u001b[0;34m\u001b[0m\u001b[0;34m\u001b[0m\u001b[0m\n\u001b[1;32m    750\u001b[0m             \u001b[0mcheck_batch_axis\u001b[0m\u001b[0;34m=\u001b[0m\u001b[0;32mFalse\u001b[0m\u001b[0;34m,\u001b[0m  \u001b[0;31m# Don't enforce the batch size.\u001b[0m\u001b[0;34m\u001b[0m\u001b[0;34m\u001b[0m\u001b[0m\n\u001b[0;32m--> 751\u001b[0;31m             exception_prefix='input')\n\u001b[0m\u001b[1;32m    752\u001b[0m \u001b[0;34m\u001b[0m\u001b[0m\n\u001b[1;32m    753\u001b[0m         \u001b[0;32mif\u001b[0m \u001b[0my\u001b[0m \u001b[0;32mis\u001b[0m \u001b[0;32mnot\u001b[0m \u001b[0;32mNone\u001b[0m\u001b[0;34m:\u001b[0m\u001b[0;34m\u001b[0m\u001b[0;34m\u001b[0m\u001b[0m\n",
            "\u001b[0;32m/usr/local/lib/python3.6/dist-packages/keras/engine/training_utils.py\u001b[0m in \u001b[0;36mstandardize_input_data\u001b[0;34m(data, names, shapes, check_batch_axis, exception_prefix)\u001b[0m\n\u001b[1;32m    136\u001b[0m                             \u001b[0;34m': expected '\u001b[0m \u001b[0;34m+\u001b[0m \u001b[0mnames\u001b[0m\u001b[0;34m[\u001b[0m\u001b[0mi\u001b[0m\u001b[0;34m]\u001b[0m \u001b[0;34m+\u001b[0m \u001b[0;34m' to have shape '\u001b[0m \u001b[0;34m+\u001b[0m\u001b[0;34m\u001b[0m\u001b[0;34m\u001b[0m\u001b[0m\n\u001b[1;32m    137\u001b[0m                             \u001b[0mstr\u001b[0m\u001b[0;34m(\u001b[0m\u001b[0mshape\u001b[0m\u001b[0;34m)\u001b[0m \u001b[0;34m+\u001b[0m \u001b[0;34m' but got array with shape '\u001b[0m \u001b[0;34m+\u001b[0m\u001b[0;34m\u001b[0m\u001b[0;34m\u001b[0m\u001b[0m\n\u001b[0;32m--> 138\u001b[0;31m                             str(data_shape))\n\u001b[0m\u001b[1;32m    139\u001b[0m     \u001b[0;32mreturn\u001b[0m \u001b[0mdata\u001b[0m\u001b[0;34m\u001b[0m\u001b[0;34m\u001b[0m\u001b[0m\n\u001b[1;32m    140\u001b[0m \u001b[0;34m\u001b[0m\u001b[0m\n",
            "\u001b[0;31mValueError\u001b[0m: Error when checking input: expected dense_1_input to have shape (406,) but got array with shape (412,)"
          ]
        }
      ]
    },
    {
      "cell_type": "code",
      "metadata": {
        "id": "UX4sw0Xlo7Q5",
        "colab_type": "code",
        "outputId": "015d37e4-7d99-4c4f-8b26-eaffcd67936b",
        "colab": {
          "base_uri": "https://localhost:8080/",
          "height": 34
        }
      },
      "source": [
        "mean_absolute_error(ans,y)"
      ],
      "execution_count": 0,
      "outputs": [
        {
          "output_type": "execute_result",
          "data": {
            "text/plain": [
              "1.0210272508150038"
            ]
          },
          "metadata": {
            "tags": []
          },
          "execution_count": 51
        }
      ]
    },
    {
      "cell_type": "markdown",
      "metadata": {
        "id": "sRp3OG1KcIbJ",
        "colab_type": "text"
      },
      "source": [
        "For TEST SET"
      ]
    },
    {
      "cell_type": "code",
      "metadata": {
        "id": "CKxEpVzVsyC0",
        "colab_type": "code",
        "colab": {}
      },
      "source": [
        "df=pd.read_csv(\"test.csv.zip\")\n",
        "df['belongs_to_collection'][df['belongs_to_collection'].notnull()]='Yes'\n",
        "df['belongs_to_collection']=df['belongs_to_collection'].fillna(\"No\")\n",
        "x=[]\n",
        "for index,row in df.iterrows():\n",
        "  try:\n",
        "    d=eval(df['genres'][index])\n",
        "    b=[]\n",
        "    for i in range(len(d)):\n",
        "      b.append(list(d[i].values())[1])\n",
        "  except:\n",
        "    pass\n",
        "  x.append(b)\n",
        "df['genres']=x\n",
        "df.drop(['homepage','imdb_id','overview','poster_path','spoken_languages','Keywords','tagline','title','original_title'],axis=1,inplace=True)\n",
        "x=[]\n",
        "for index,row in df.iterrows():\n",
        "  try:\n",
        "    d=eval(df['production_companies'][index])\n",
        "    b=[]\n",
        "    for i in range(len(d)):\n",
        "      b.append(list(d[i].values())[0])\n",
        "  except:\n",
        "    b=[]\n",
        "  x.append(b)\n",
        "df['production_companies']=x\n",
        "x=[]\n",
        "for index,row in df.iterrows():\n",
        "  try:\n",
        "    d=eval(df['production_countries'][index])\n",
        "    b=[]\n",
        "    for i in range(len(d)):\n",
        "      b.append(list(d[i].values())[0])\n",
        "  except:\n",
        "    b=[]\n",
        "  x.append(b)\n",
        "df['production_countries']=x\n",
        "x=[]\n",
        "for index,row in df.iterrows():\n",
        "  try:\n",
        "    d=eval(df['cast'][index])\n",
        "    b=[]\n",
        "    for i in range(len(d)):\n",
        "      b.append(list(d[i].values())[0])\n",
        "  except:\n",
        "    b=[]\n",
        "  x.append(b)\n",
        "df['cast']=x\n",
        "total_crew=[]\n",
        "for index,row in df.iterrows():\n",
        "  hi=df['crew'][index]\n",
        "  crew=[]\n",
        "  try:\n",
        "    ho=hi.rsplit(\"'Director', 'name': '\")[1]\n",
        "    he=ho.split(\"', \")\n",
        "    crew.append(he[0])\n",
        "  except:\n",
        "    crew.append(\"N/A\")\n",
        "\n",
        "  try:\n",
        "    ho=hi.rsplit(\"Producer\\', \\'name\\': \\'\")[1]\n",
        "    he=ho.split(\"', \")\n",
        "    crew.append(he[0])\n",
        "  except:\n",
        "    crew.append(\"N/A\")\n",
        "  try:\n",
        "    ho=hi.rsplit(\"'Director of Photography', 'name': '\")[1]\n",
        "    he=ho.split(\"', \")\n",
        "    crew.append(he[0])\n",
        "  except:\n",
        "    crew.append(\"N/A\")\n",
        "  total_crew.append(crew)\n",
        "total_crew\n",
        "df['crew']=total_crew\n",
        "df[\"director\"] = df[\"crew\"].str[0]\n",
        "df[\"producer\"] = df[\"crew\"].str[1]\n",
        "df[\"Director_of_photography\"] = df[\"crew\"].str[2]\n",
        "df=df.drop('crew',1)\n",
        "cols=df.columns\n",
        "from sklearn.preprocessing import MultiLabelBinarizer\n",
        "\n",
        "mlb = MultiLabelBinarizer()\n",
        "df = df.join(pd.DataFrame(mlb.fit_transform(df.pop('genres')),\n",
        "                          columns=mlb.classes_,\n",
        "                          index=df.index))\n",
        "from sklearn.preprocessing import MultiLabelBinarizer\n",
        "\n",
        "mlb = MultiLabelBinarizer()\n",
        "df = df.join(pd.DataFrame(mlb.fit_transform(df.pop('production_companies')),\n",
        "                          columns=mlb.classes_,\n",
        "                          index=df.index))\n",
        "                          \n",
        "from sklearn.preprocessing import MultiLabelBinarizer\n",
        "\n",
        "mlb = MultiLabelBinarizer()\n",
        "df = df.join(pd.DataFrame(mlb.fit_transform(df.pop('cast')),\n",
        "                          columns=mlb.classes_,\n",
        "                          index=df.index))\n"
      ],
      "execution_count": 0,
      "outputs": []
    },
    {
      "cell_type": "code",
      "metadata": {
        "id": "DOuVrn5CVxHc",
        "colab_type": "code",
        "outputId": "b348661d-844f-49fb-e886-1f32d4f006b9",
        "colab": {
          "base_uri": "https://localhost:8080/",
          "height": 34
        }
      },
      "source": [
        "df.isnull().sum(axis=0)\n",
        "df['status']=df['status'].fillna('Released')\n",
        "df['runtime']=df['runtime'].fillna('93')\n",
        "df['release_date']=df['release_date'].fillna('2/2/05')\n",
        "df.status.unique()"
      ],
      "execution_count": 0,
      "outputs": [
        {
          "output_type": "execute_result",
          "data": {
            "text/plain": [
              "array(['Released', 'Rumored', 'Post Production'], dtype=object)"
            ]
          },
          "metadata": {
            "tags": []
          },
          "execution_count": 176
        }
      ]
    },
    {
      "cell_type": "code",
      "metadata": {
        "id": "jrM4ySt-XqBL",
        "colab_type": "code",
        "colab": {}
      },
      "source": [
        "column=list(cols)+list(studios)+list(casts)\n",
        "column.remove(\"genres\")\n",
        "column.remove(\"production_companies\")\n",
        "column.remove(\"cast\")\n",
        "df['North Box Productions']='0'\n",
        "df['Ronald Shusett/Gary Goldman']='0'\n",
        "df['Hypnopolis']='0'\n",
        "df=df[column]\n",
        "\n"
      ],
      "execution_count": 0,
      "outputs": []
    },
    {
      "cell_type": "code",
      "metadata": {
        "id": "Vwmvq7gXX3LB",
        "colab_type": "code",
        "colab": {}
      },
      "source": [
        "from sklearn.preprocessing import MultiLabelBinarizer\n",
        "mlb = MultiLabelBinarizer()\n",
        "df = df.join(pd.DataFrame(mlb.fit_transform(df.pop('production_countries')),\n",
        "                          columns=mlb.classes_,\n",
        "                          index=df.index))\n"
      ],
      "execution_count": 0,
      "outputs": []
    },
    {
      "cell_type": "code",
      "metadata": {
        "id": "p5beyo0OYAoV",
        "colab_type": "code",
        "colab": {}
      },
      "source": [
        "\n",
        "from sklearn.preprocessing import LabelEncoder\n",
        "lbl=LabelEncoder()\n",
        "df['belongs_to_collection']=lbl.fit_transform(df['belongs_to_collection'])\n"
      ],
      "execution_count": 0,
      "outputs": []
    },
    {
      "cell_type": "code",
      "metadata": {
        "id": "Rn4aRZPoYOHK",
        "colab_type": "code",
        "colab": {}
      },
      "source": [
        "from sklearn.preprocessing import LabelEncoder\n",
        "lbl=LabelEncoder()\n",
        "df['status']=lbl.fit_transform(df['status'])"
      ],
      "execution_count": 0,
      "outputs": []
    },
    {
      "cell_type": "code",
      "metadata": {
        "id": "pQO6hnNnYJ7Y",
        "colab_type": "code",
        "colab": {}
      },
      "source": [
        "language=pd.get_dummies(df.original_language)\n",
        "language.drop('hi' ,1)\n",
        "df1=pd.concat([df,language],1)\n",
        "df1.drop('original_language',1, inplace=True)\n",
        "dire=pd.get_dummies(df.director)\n",
        "dire['Ole Bornedal']='0'\n",
        "dire['Ralph Fiennes']='0'\n",
        "dire['Sujoy Ghosh']='0'\n",
        "dire['Stevan Filipoviƒá']='0'\n",
        "dire['Jehane Noujaim']='0'\n",
        "dire['Michael Dowse']='0'\n",
        "dire['Hal Sutherland']='0'\n",
        "dire['Joe Swanberg']='0'\n",
        "dire['Phil Traill']='0'\n",
        "dire['Nelson Shin']='0'\n",
        "dire['Jonathan King']='0'\n",
        "dire['Jong-seok Yoon']='0'\n",
        "\n",
        "\n",
        "\n",
        "\n",
        "\n",
        "dire=dire[directors]\n",
        "df1=pd.concat([df1,dire],1)\n",
        "df1.drop('director',1, inplace=True)"
      ],
      "execution_count": 0,
      "outputs": []
    },
    {
      "cell_type": "code",
      "metadata": {
        "id": "SrPA7DVFs3UL",
        "colab_type": "code",
        "outputId": "6ef7e85a-0581-490a-d416-fb8cc42b31ab",
        "colab": {
          "base_uri": "https://localhost:8080/",
          "height": 238
        }
      },
      "source": [
        "\n",
        "\n",
        "pros=pd.get_dummies(df.producer)\n",
        "producers=list(producers)\n",
        "ranlist=['Michael Weber', 'Robby London', 'Philippa Campbell', 'Sujoy Ghosh', 'Joe Bacal', 'Branislav Jeliƒá', 'Frank Oz', 'Ant Timpson', 'Elaine J. Constantine ', 'Jason Reitman', 'Gary Binkow', 'Whitney Houston', 'Carla Fry', 'Mike Richardson', 'Christian Baute', 'David Gross']\n",
        "\n",
        "for x in ranlist:\n",
        "    producers.remove(x)\n",
        "\n",
        "\n",
        "\n",
        "\n",
        "pros=pros[producers]\n",
        "df1=pd.concat([df1,pros],1)\n",
        "df1.drop('producer',1, inplace=True)\n",
        "\n",
        "\n",
        "phos=pd.get_dummies(df.Director_of_photography)\n",
        "ranlist=['Gerald Feil', 'Arlene Nelson', 'Robert Draper', 'Mihajlo Savic', 'Mathieu Vadepied', 'Scott Peck', 'Masatoshi Fukui']\n",
        "dop=list(dop)\n",
        "for x in ranlist:\n",
        "    dop.remove(x)\n",
        "phos=phos[dop]\n",
        "df1=pd.concat([df1,phos],1)\n",
        "df1.drop('Director_of_photography',1, inplace=True)\n",
        "import datetime as dt\n",
        "for i in df1.index:\n",
        "       if pd.notna(df1['release_date'][i]): \n",
        "            df1['release_date'][i]=dt.datetime.strptime(df1['release_date'][i],'%m/%d/%y')                        \n",
        "df1.drop(\"N/A\",1)\n",
        "df1['release_date'][i]=dt.datetime.strptime(df1['release_date'][i],'%m/%d/%y')\n",
        "year = lambda x: dt.datetime.strptime(x, \"%m/%d/%y\" ).year\n",
        "df1['year'] = df1['release_date'].map(year)\n",
        "month = lambda x: dt.datetime.strptime(x, \"%m/%d/%y\" ).month\n",
        "df1['month'] = df1['release_date'].map(month)\n",
        "day = lambda x: dt.datetime.strptime(x, \"%m/%d/%y\" ).day\n",
        "df1['day'] = df1['release_date'].map(day)\n",
        "day_of_week = lambda x: dt.datetime.strptime(x, \"%m/%d/%y\" ).weekday()\n",
        "df1['week_day']=df1['release_date'].map(day_of_week)\n",
        "df1['year']=df1['year'].astype(str)\n",
        "df1['month']='month' + df1['month'].astype(str)\n",
        "df1['day']='day' + df1['day'].astype(str)\n",
        "df1['week_day']='week_day' + df1['week_day'].astype(str)\n",
        "months=pd.get_dummies(df1.month)\n",
        "months.drop('month2' ,1)\n",
        "df1=pd.concat([df1,months],1)\n",
        "df1.drop('month',1, inplace=True)\n",
        "\n",
        "years=pd.get_dummies(df1.year)\n",
        "years.drop('2015' ,1)\n",
        "df1=pd.concat([df1,years],1)\n",
        "df1.drop('year',1, inplace=True)\n",
        "\n",
        "days=pd.get_dummies(df1.day)\n",
        "days.drop('day1' ,1)\n",
        "df1=pd.concat([df1,days],1)\n",
        "df1.drop('day',1, inplace=True)\n",
        "\n",
        "weekdays=pd.get_dummies(df1.week_day)\n",
        "weekdays.drop('week_day1' ,1)\n",
        "df1=pd.concat([df1,weekdays],1)\n",
        "df1.drop('week_day',1, inplace=True)      \n",
        "df1.drop(\"release_date\",1,inplace=True) \n",
        "df1 = df1[df1.budget!=0]  \n",
        "Xtest=df1   \n",
        "Xtest['budget']=np.log1p(Xtest['budget'])  \n",
        "Xtest['popularity']=np.log1p(Xtest['popularity'])\n",
        "Xtest['runtime']=np.log1p(Xtest['runtime'].astype(float))     \n",
        "Xtest.head()"
      ],
      "execution_count": 0,
      "outputs": [
        {
          "output_type": "error",
          "ename": "ValueError",
          "evalue": "ignored",
          "traceback": [
            "\u001b[0;31m---------------------------------------------------------------------------\u001b[0m",
            "\u001b[0;31mValueError\u001b[0m                                Traceback (most recent call last)",
            "\u001b[0;32m<ipython-input-174-c3eb35a8988e>\u001b[0m in \u001b[0;36m<module>\u001b[0;34m()\u001b[0m\n\u001b[1;32m      6\u001b[0m \u001b[0;34m\u001b[0m\u001b[0m\n\u001b[1;32m      7\u001b[0m \u001b[0;32mfor\u001b[0m \u001b[0mx\u001b[0m \u001b[0;32min\u001b[0m \u001b[0mranlist\u001b[0m\u001b[0;34m:\u001b[0m\u001b[0;34m\u001b[0m\u001b[0;34m\u001b[0m\u001b[0m\n\u001b[0;32m----> 8\u001b[0;31m     \u001b[0mproducers\u001b[0m\u001b[0;34m.\u001b[0m\u001b[0mremove\u001b[0m\u001b[0;34m(\u001b[0m\u001b[0mx\u001b[0m\u001b[0;34m)\u001b[0m\u001b[0;34m\u001b[0m\u001b[0;34m\u001b[0m\u001b[0m\n\u001b[0m\u001b[1;32m      9\u001b[0m \u001b[0;34m\u001b[0m\u001b[0m\n\u001b[1;32m     10\u001b[0m \u001b[0;34m\u001b[0m\u001b[0m\n",
            "\u001b[0;31mValueError\u001b[0m: list.remove(x): x not in list"
          ]
        }
      ]
    },
    {
      "cell_type": "code",
      "metadata": {
        "id": "3u3BcruGdMmW",
        "colab_type": "code",
        "colab": {}
      },
      "source": [
        ""
      ],
      "execution_count": 0,
      "outputs": []
    },
    {
      "cell_type": "code",
      "metadata": {
        "id": "ISFCj3RzpdfU",
        "colab_type": "code",
        "colab": {}
      },
      "source": [
        ""
      ],
      "execution_count": 0,
      "outputs": []
    },
    {
      "cell_type": "code",
      "metadata": {
        "id": "5gNvkYdhp5Zo",
        "colab_type": "code",
        "colab": {}
      },
      "source": [
        ""
      ],
      "execution_count": 0,
      "outputs": []
    }
  ]
}